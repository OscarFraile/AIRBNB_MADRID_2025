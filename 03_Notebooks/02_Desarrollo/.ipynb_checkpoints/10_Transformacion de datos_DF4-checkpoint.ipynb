{
 "cells": [
  {
   "cell_type": "markdown",
   "id": "ff2b75c2",
   "metadata": {},
   "source": [
    "# TRANSFORMACIÓN DE DATOS"
   ]
  },
  {
   "cell_type": "markdown",
   "id": "23f2e9cd",
   "metadata": {},
   "source": [
    "## 1. IMPORTAR PAQUETES"
   ]
  },
  {
   "cell_type": "code",
   "execution_count": 1,
   "id": "e92e3160",
   "metadata": {},
   "outputs": [],
   "source": [
    "import numpy as np\n",
    "import pandas as pd\n",
    "import matplotlib.pyplot as plt\n",
    "%matplotlib inline\n",
    "import pickle\n",
    "from sklearn.preprocessing import OneHotEncoder\n",
    "from sklearn.preprocessing import OrdinalEncoder\n",
    "from sklearn.preprocessing import LabelEncoder\n",
    "from category_encoders import TargetEncoder\n",
    "from sklearn.preprocessing import KBinsDiscretizer\n",
    "from sklearn.preprocessing import Binarizer\n",
    "from sklearn.preprocessing import PowerTransformer\n",
    "from sklearn.preprocessing import QuantileTransformer\n",
    "from sklearn.feature_extraction.text import CountVectorizer\n",
    "from sklearn.feature_extraction.text import TfidfVectorizer\n",
    "from sklearn.preprocessing import MinMaxScaler\n",
    "from sklearn.preprocessing import StandardScaler\n",
    "from sklearn.preprocessing import RobustScaler\n",
    "from sklearn.preprocessing import MaxAbsScaler\n",
    "from imblearn.under_sampling import RandomUnderSampler\n",
    "from imblearn.over_sampling import RandomOverSampler\n",
    "\n",
    "#Automcompletar rápido\n",
    "%config IPCompleter.greedy=True\n",
    "\n",
    "#Mostrar el máximo de columnas posibles de una tabla\n",
    "pd.set_option('display.max_columns', None) #Número de columnas que deben verse. None = Máx\n",
    "\n",
    "\n",
    "#Mostrar el máximo de filas posibles de una tabla\n",
    "pd.set_option('display.max_rows', 100) #Número de filas que deben verse. None = Máx"
   ]
  },
  {
   "cell_type": "markdown",
   "id": "008c0699",
   "metadata": {},
   "source": [
    "## 2. IMPORTAR LOS DATOS"
   ]
  },
  {
   "cell_type": "markdown",
   "id": "8c0939ef",
   "metadata": {},
   "source": [
    "1.- Sustituir la ruta del proyecto."
   ]
  },
  {
   "cell_type": "code",
   "execution_count": 2,
   "id": "937523bc",
   "metadata": {},
   "outputs": [],
   "source": [
    "#Abrir el excel de las transformaciones que le vamos a hacer a los datos para hacer un esquema de aplicacion y no perdernos\n",
    "ruta_proyecto = 'C:/Users/Oscar/OneDrive - FM4/Escritorio/Python Data Mastery/EstructuraDirectorio/03_MACHINE_LEARNING/08_CASOS/007_AIRBNB'"
   ]
  },
  {
   "cell_type": "markdown",
   "id": "73650e6b",
   "metadata": {},
   "source": [
    "2.- Nombrar los ficheros de datos."
   ]
  },
  {
   "cell_type": "code",
   "execution_count": 3,
   "id": "7df68633",
   "metadata": {},
   "outputs": [],
   "source": [
    "nombre_cat = 'cat_resultado_eda.pickle'\n",
    "nombre_num = 'num_resultado_eda.pickle'"
   ]
  },
  {
   "cell_type": "markdown",
   "id": "c18ceea4",
   "metadata": {},
   "source": [
    "3.- Cargar los datos."
   ]
  },
  {
   "cell_type": "code",
   "execution_count": 4,
   "id": "11b3dadb",
   "metadata": {},
   "outputs": [],
   "source": [
    "cat = pd.read_pickle(ruta_proyecto + '/02_Datos/03_Trabajo/' + nombre_cat).reset_index(drop = True)\n",
    "num = pd.read_pickle(ruta_proyecto + '/02_Datos/03_Trabajo/' + nombre_num).reset_index(drop = True)"
   ]
  },
  {
   "cell_type": "code",
   "execution_count": 5,
   "id": "415c898d",
   "metadata": {},
   "outputs": [
    {
     "name": "stdout",
     "output_type": "stream",
     "text": [
      "<class 'pandas.core.frame.DataFrame'>\n",
      "RangeIndex: 18139 entries, 0 to 18138\n",
      "Data columns (total 20 columns):\n",
      " #   Column                  Non-Null Count  Dtype \n",
      "---  ------                  --------------  ----- \n",
      " 0   name                    18139 non-null  object\n",
      " 1   host_response_time      18139 non-null  object\n",
      " 2   host_is_superhost       18139 non-null  object\n",
      " 3   host_verifications      18139 non-null  object\n",
      " 4   host_has_profile_pic    18139 non-null  object\n",
      " 5   host_identity_verified  18139 non-null  object\n",
      " 6   property_type           18139 non-null  object\n",
      " 7   room_type               18139 non-null  object\n",
      " 8   amenities               18139 non-null  object\n",
      " 9   has_availability        18139 non-null  object\n",
      " 10  license                 18139 non-null  object\n",
      " 11  instant_bookable        18139 non-null  object\n",
      " 12  neighbourhood_group     18139 non-null  object\n",
      " 13  host_since              18139 non-null  object\n",
      " 14  first_review            18139 non-null  object\n",
      " 15  last_review             18139 non-null  object\n",
      " 16  bedrooms_disc           18139 non-null  object\n",
      " 17  accommodates_disc       18139 non-null  object\n",
      " 18  beds_disc               18139 non-null  object\n",
      " 19  number_of_reviews_disc  18139 non-null  object\n",
      "dtypes: object(20)\n",
      "memory usage: 2.8+ MB\n"
     ]
    }
   ],
   "source": [
    "cat.info()"
   ]
  },
  {
   "cell_type": "code",
   "execution_count": 6,
   "id": "0449ac5d",
   "metadata": {},
   "outputs": [],
   "source": [
    "#Eliminamos las variables discretizadas previamente para hacer las pruebas de predicción\n",
    "cat = cat.drop(columns=['bedrooms_disc','beds_disc','number_of_reviews_disc','accommodates_disc'])"
   ]
  },
  {
   "cell_type": "code",
   "execution_count": 7,
   "id": "58397a12",
   "metadata": {},
   "outputs": [
    {
     "name": "stdout",
     "output_type": "stream",
     "text": [
      "<class 'pandas.core.frame.DataFrame'>\n",
      "RangeIndex: 18139 entries, 0 to 18138\n",
      "Data columns (total 16 columns):\n",
      " #   Column                  Non-Null Count  Dtype \n",
      "---  ------                  --------------  ----- \n",
      " 0   name                    18139 non-null  object\n",
      " 1   host_response_time      18139 non-null  object\n",
      " 2   host_is_superhost       18139 non-null  object\n",
      " 3   host_verifications      18139 non-null  object\n",
      " 4   host_has_profile_pic    18139 non-null  object\n",
      " 5   host_identity_verified  18139 non-null  object\n",
      " 6   property_type           18139 non-null  object\n",
      " 7   room_type               18139 non-null  object\n",
      " 8   amenities               18139 non-null  object\n",
      " 9   has_availability        18139 non-null  object\n",
      " 10  license                 18139 non-null  object\n",
      " 11  instant_bookable        18139 non-null  object\n",
      " 12  neighbourhood_group     18139 non-null  object\n",
      " 13  host_since              18139 non-null  object\n",
      " 14  first_review            18139 non-null  object\n",
      " 15  last_review             18139 non-null  object\n",
      "dtypes: object(16)\n",
      "memory usage: 2.2+ MB\n"
     ]
    }
   ],
   "source": [
    "cat.info()"
   ]
  },
  {
   "cell_type": "markdown",
   "id": "84f27c49",
   "metadata": {},
   "source": [
    "4.- Separar la target. En este caso hemos separado la target previamente, por lo que la cargamos desde la base de datos y trabajamos con ella"
   ]
  },
  {
   "cell_type": "code",
   "execution_count": 8,
   "id": "6e813ebf",
   "metadata": {},
   "outputs": [
    {
     "data": {
      "text/html": [
       "<div>\n",
       "<style scoped>\n",
       "    .dataframe tbody tr th:only-of-type {\n",
       "        vertical-align: middle;\n",
       "    }\n",
       "\n",
       "    .dataframe tbody tr th {\n",
       "        vertical-align: top;\n",
       "    }\n",
       "\n",
       "    .dataframe thead th {\n",
       "        text-align: right;\n",
       "    }\n",
       "</style>\n",
       "<table border=\"1\" class=\"dataframe\">\n",
       "  <thead>\n",
       "    <tr style=\"text-align: right;\">\n",
       "      <th></th>\n",
       "      <th>pisos_rentables</th>\n",
       "    </tr>\n",
       "  </thead>\n",
       "  <tbody>\n",
       "    <tr>\n",
       "      <th>0</th>\n",
       "      <td>1</td>\n",
       "    </tr>\n",
       "    <tr>\n",
       "      <th>1</th>\n",
       "      <td>1</td>\n",
       "    </tr>\n",
       "    <tr>\n",
       "      <th>2</th>\n",
       "      <td>1</td>\n",
       "    </tr>\n",
       "    <tr>\n",
       "      <th>3</th>\n",
       "      <td>0</td>\n",
       "    </tr>\n",
       "    <tr>\n",
       "      <th>4</th>\n",
       "      <td>1</td>\n",
       "    </tr>\n",
       "    <tr>\n",
       "      <th>...</th>\n",
       "      <td>...</td>\n",
       "    </tr>\n",
       "    <tr>\n",
       "      <th>18134</th>\n",
       "      <td>0</td>\n",
       "    </tr>\n",
       "    <tr>\n",
       "      <th>18135</th>\n",
       "      <td>0</td>\n",
       "    </tr>\n",
       "    <tr>\n",
       "      <th>18136</th>\n",
       "      <td>0</td>\n",
       "    </tr>\n",
       "    <tr>\n",
       "      <th>18137</th>\n",
       "      <td>0</td>\n",
       "    </tr>\n",
       "    <tr>\n",
       "      <th>18138</th>\n",
       "      <td>1</td>\n",
       "    </tr>\n",
       "  </tbody>\n",
       "</table>\n",
       "<p>18139 rows × 1 columns</p>\n",
       "</div>"
      ],
      "text/plain": [
       "       pisos_rentables\n",
       "0                    1\n",
       "1                    1\n",
       "2                    1\n",
       "3                    0\n",
       "4                    1\n",
       "...                ...\n",
       "18134                0\n",
       "18135                0\n",
       "18136                0\n",
       "18137                0\n",
       "18138                1\n",
       "\n",
       "[18139 rows x 1 columns]"
      ]
     },
     "execution_count": 8,
     "metadata": {},
     "output_type": "execute_result"
    }
   ],
   "source": [
    "target = num[['pisos_rentables']].copy().reset_index(drop=True)\n",
    "target"
   ]
  },
  {
   "cell_type": "code",
   "execution_count": 12,
   "id": "e5572db5",
   "metadata": {},
   "outputs": [
    {
     "name": "stdout",
     "output_type": "stream",
     "text": [
      "Valores únicos de target: [1 0]\n",
      "Conteo de clases: pisos_rentables\n",
      "1    12646\n",
      "0     5493\n",
      "Name: count, dtype: int64\n"
     ]
    }
   ],
   "source": [
    "print(\"Valores únicos de target:\", num.pisos_rentables.unique())\n",
    "print(\"Conteo de clases:\", num.pisos_rentables.value_counts())"
   ]
  },
  {
   "cell_type": "markdown",
   "id": "991d42a5",
   "metadata": {},
   "source": [
    "## 3. TRANSFORMACIÓN DE CATEGÓRICAS"
   ]
  },
  {
   "cell_type": "markdown",
   "id": "703350ec",
   "metadata": {},
   "source": [
    "### 3.1. One Hot Encoding"
   ]
  },
  {
   "cell_type": "markdown",
   "id": "2e500f72",
   "metadata": {},
   "source": [
    "#### 3.1.1. Variables a aplicar OHE"
   ]
  },
  {
   "cell_type": "code",
   "execution_count": 9,
   "id": "6c631f1d",
   "metadata": {},
   "outputs": [],
   "source": [
    "var_ohe = ['property_type',\n",
    "           'room_type',\n",
    "           'neighbourhood_group']"
   ]
  },
  {
   "cell_type": "markdown",
   "id": "aed5b762",
   "metadata": {},
   "source": [
    "#### 3.1.2. Instanciar"
   ]
  },
  {
   "cell_type": "code",
   "execution_count": 10,
   "id": "12051aed",
   "metadata": {},
   "outputs": [],
   "source": [
    "ohe = OneHotEncoder(sparse_output = False, handle_unknown='ignore')"
   ]
  },
  {
   "cell_type": "markdown",
   "id": "db9ad2ba",
   "metadata": {},
   "source": [
    "#### 3.1.3. Entrenar y aplicar"
   ]
  },
  {
   "cell_type": "code",
   "execution_count": 11,
   "id": "36be2b63",
   "metadata": {},
   "outputs": [],
   "source": [
    "cat_ohe = ohe.fit_transform(cat[var_ohe])"
   ]
  },
  {
   "cell_type": "markdown",
   "id": "9b87ad9d",
   "metadata": {},
   "source": [
    "#### 3.1.4. Guardar como dataframe"
   ]
  },
  {
   "cell_type": "code",
   "execution_count": 12,
   "id": "fc2d8676",
   "metadata": {},
   "outputs": [],
   "source": [
    "cat_ohe = pd.DataFrame(cat_ohe, columns = ohe.get_feature_names_out())"
   ]
  },
  {
   "cell_type": "markdown",
   "id": "cf806111",
   "metadata": {},
   "source": [
    "### 3.2. Ordinal Encoding"
   ]
  },
  {
   "cell_type": "markdown",
   "id": "89e6176b",
   "metadata": {},
   "source": [
    "#### 3.2.1. Variables a aplicar OE"
   ]
  },
  {
   "cell_type": "code",
   "execution_count": 13,
   "id": "f17c18cb",
   "metadata": {},
   "outputs": [],
   "source": [
    "var_oe = ['host_response_time',\n",
    "          'host_is_superhost',\n",
    "          'host_verifications',\n",
    "          'host_has_profile_pic',\n",
    "          'host_identity_verified',\n",
    "          'has_availability',\n",
    "          'license',\n",
    "          'instant_bookable']"
   ]
  },
  {
   "cell_type": "markdown",
   "id": "7862621a",
   "metadata": {},
   "source": [
    "#### 3.2.2. Orden de los valores de las variables"
   ]
  },
  {
   "cell_type": "code",
   "execution_count": 14,
   "id": "b02662f2",
   "metadata": {},
   "outputs": [],
   "source": [
    "#Orden de la primera variable\n",
    "orden_host_response_time = ['no response', 'a few days or more','within a day', 'within a few hours', 'within an hour' ]\n",
    "\n",
    "#Orden de la segunda variable\n",
    "orden_host_is_superhost = ['f','t']\n",
    "\n",
    "#Orden de la variable\n",
    "orden_host_verifications = [\"['No']\", \"['email']\", \"['phone']\", \"['phone', 'work_email']\", \"['email', 'phone']\", \"['email', 'phone', 'work_email']\"]\n",
    "\n",
    "#Orden de la variable\n",
    "orden_host_has_profile_pic = ['f','t']\n",
    "\n",
    "#Orden de la variable\n",
    "orden_host_identity_verified = ['f','t']\n",
    "\n",
    "#Orden de la variable\n",
    "orden_has_availability = ['yes','no']\n",
    "\n",
    "#Orden de la variable\n",
    "orden_license = ['no','yes']\n",
    "\n",
    "#Orden de la variable\n",
    "orden_instant_bookable = ['f','t']"
   ]
  },
  {
   "cell_type": "markdown",
   "id": "b3c448a5",
   "metadata": {},
   "source": [
    "#### 3.2.3. Instanciar"
   ]
  },
  {
   "cell_type": "code",
   "execution_count": 15,
   "id": "c2ba91d7",
   "metadata": {},
   "outputs": [],
   "source": [
    "oe = OrdinalEncoder(categories = [orden_host_response_time,\n",
    "                                  orden_host_is_superhost,\n",
    "                                  orden_host_verifications,\n",
    "                                  orden_host_has_profile_pic,\n",
    "                                  orden_host_identity_verified,\n",
    "                                  orden_has_availability,\n",
    "                                  orden_license,\n",
    "                                  orden_instant_bookable                                 ],\n",
    "                    handle_unknown = 'use_encoded_value',\n",
    "                    unknown_value = 10)"
   ]
  },
  {
   "cell_type": "markdown",
   "id": "0c851434",
   "metadata": {},
   "source": [
    "#### 3.2.4. Entrenar y aplicar"
   ]
  },
  {
   "cell_type": "code",
   "execution_count": 16,
   "id": "d1427ade",
   "metadata": {},
   "outputs": [],
   "source": [
    "cat_oe = oe.fit_transform(cat[var_oe])"
   ]
  },
  {
   "cell_type": "markdown",
   "id": "46165b0a",
   "metadata": {},
   "source": [
    "#### 3.2.5. Guardar como dataframe"
   ]
  },
  {
   "cell_type": "code",
   "execution_count": 17,
   "id": "84417354",
   "metadata": {},
   "outputs": [
    {
     "name": "stdout",
     "output_type": "stream",
     "text": [
      "<class 'pandas.core.frame.DataFrame'>\n",
      "RangeIndex: 18139 entries, 0 to 18138\n",
      "Data columns (total 8 columns):\n",
      " #   Column                     Non-Null Count  Dtype  \n",
      "---  ------                     --------------  -----  \n",
      " 0   host_response_time_oe      18139 non-null  float64\n",
      " 1   host_is_superhost_oe       18139 non-null  float64\n",
      " 2   host_verifications_oe      18139 non-null  float64\n",
      " 3   host_has_profile_pic_oe    18139 non-null  float64\n",
      " 4   host_identity_verified_oe  18139 non-null  float64\n",
      " 5   has_availability_oe        18139 non-null  float64\n",
      " 6   license_oe                 18139 non-null  float64\n",
      " 7   instant_bookable_oe        18139 non-null  float64\n",
      "dtypes: float64(8)\n",
      "memory usage: 1.1 MB\n"
     ]
    }
   ],
   "source": [
    "#Añadir sufijos a los nombres\n",
    "nombres_oe = [variable + '_oe' for variable in var_oe]\n",
    "\n",
    "#Guardar como dataframe\n",
    "cat_oe = pd.DataFrame(cat_oe, columns = nombres_oe)\n",
    "cat_oe.info()"
   ]
  },
  {
   "cell_type": "code",
   "execution_count": 18,
   "id": "1bff5221",
   "metadata": {},
   "outputs": [
    {
     "name": "stdout",
     "output_type": "stream",
     "text": [
      "host_response_time_oe        float64\n",
      "host_is_superhost_oe         float64\n",
      "host_verifications_oe        float64\n",
      "host_has_profile_pic_oe      float64\n",
      "host_identity_verified_oe    float64\n",
      "has_availability_oe          float64\n",
      "license_oe                   float64\n",
      "instant_bookable_oe          float64\n",
      "dtype: object\n",
      "   host_response_time_oe  host_is_superhost_oe  host_verifications_oe  \\\n",
      "0                    0.0                   0.0                    4.0   \n",
      "1                    0.0                   0.0                    4.0   \n",
      "2                    0.0                   0.0                    4.0   \n",
      "3                    4.0                   0.0                    4.0   \n",
      "4                    0.0                   0.0                    4.0   \n",
      "\n",
      "   host_has_profile_pic_oe  host_identity_verified_oe  has_availability_oe  \\\n",
      "0                      1.0                        1.0                  0.0   \n",
      "1                      1.0                        0.0                  1.0   \n",
      "2                      1.0                        0.0                  1.0   \n",
      "3                      1.0                        1.0                  0.0   \n",
      "4                      1.0                        1.0                  0.0   \n",
      "\n",
      "   license_oe  instant_bookable_oe  \n",
      "0         0.0                  0.0  \n",
      "1         0.0                  0.0  \n",
      "2         0.0                  0.0  \n",
      "3         0.0                  0.0  \n",
      "4         1.0                  0.0  \n"
     ]
    }
   ],
   "source": [
    "print(cat_oe.dtypes)\n",
    "print(cat_oe.head())"
   ]
  },
  {
   "cell_type": "markdown",
   "id": "c608a6b0",
   "metadata": {},
   "source": [
    "### 3.4. Fechas y textos"
   ]
  },
  {
   "cell_type": "code",
   "execution_count": 19,
   "id": "a26220fe",
   "metadata": {},
   "outputs": [
    {
     "name": "stdout",
     "output_type": "stream",
     "text": [
      "<class 'pandas.core.frame.DataFrame'>\n",
      "RangeIndex: 18139 entries, 0 to 18138\n",
      "Data columns (total 16 columns):\n",
      " #   Column                  Non-Null Count  Dtype \n",
      "---  ------                  --------------  ----- \n",
      " 0   name                    18139 non-null  object\n",
      " 1   host_response_time      18139 non-null  object\n",
      " 2   host_is_superhost       18139 non-null  object\n",
      " 3   host_verifications      18139 non-null  object\n",
      " 4   host_has_profile_pic    18139 non-null  object\n",
      " 5   host_identity_verified  18139 non-null  object\n",
      " 6   property_type           18139 non-null  object\n",
      " 7   room_type               18139 non-null  object\n",
      " 8   amenities               18139 non-null  object\n",
      " 9   has_availability        18139 non-null  object\n",
      " 10  license                 18139 non-null  object\n",
      " 11  instant_bookable        18139 non-null  object\n",
      " 12  neighbourhood_group     18139 non-null  object\n",
      " 13  host_since              18139 non-null  object\n",
      " 14  first_review            18139 non-null  object\n",
      " 15  last_review             18139 non-null  object\n",
      "dtypes: object(16)\n",
      "memory usage: 2.2+ MB\n"
     ]
    }
   ],
   "source": [
    "cat.info()"
   ]
  },
  {
   "cell_type": "code",
   "execution_count": 20,
   "id": "379dd438",
   "metadata": {},
   "outputs": [],
   "source": [
    "def modificaciones_fechas(cat):\n",
    "    \n",
    "    def convertir_fecha(fecha):\n",
    "        for formato in ['%Y-%m-%d', '%d/%m/%Y', '%d-%m-%Y', '%Y-%d-%m', '%m/%d/%Y']:\n",
    "            try:\n",
    "                return pd.to_datetime(fecha, format=formato)\n",
    "            except ValueError:\n",
    "                continue\n",
    "        return pd.NaT  # Si no coincide con ningún formato\n",
    "\n",
    "    # Aplicar la función a la columna, asegurando que el DataFrame se mantenga\n",
    "    cat['host_since'] = cat['host_since'].apply(convertir_fecha)\n",
    "    cat['first_review'] = cat['first_review'].apply(convertir_fecha)\n",
    "    cat['last_review'] = cat['last_review'].apply(convertir_fecha)\n",
    "\n",
    "    # Convertir las fechas al formato deseado y sobrescribir la columna original\n",
    "    cat['host_since'] = pd.to_datetime(cat['host_since'], dayfirst=True, errors='coerce')\n",
    "    cat['first_review'] = pd.to_datetime(cat['first_review'], dayfirst=True, errors='coerce')\n",
    "    cat['last_review'] = pd.to_datetime(cat['last_review'], dayfirst=True, errors='coerce')\n",
    "\n",
    "    def componentes_fecha(cat):\n",
    "\n",
    "        cat.reset_index(inplace=True)\n",
    "\n",
    "        #host_since\n",
    "        cat.set_index('host_since', inplace=True)    \n",
    "        cat['host_since_year'] = cat.index.year\n",
    "\n",
    "        #first_review\n",
    "        cat.set_index('first_review', inplace=True)    \n",
    "        cat['first_review_year'] = cat.index.year\n",
    "\n",
    "        #last_review\n",
    "        cat.set_index('last_review', inplace=True)    \n",
    "        cat['last_review_year'] = cat.index.year\n",
    "\n",
    "        #cat.reset_index(inplace=True)\n",
    "\n",
    "        return(cat)\n",
    "    cat = componentes_fecha(cat)\n",
    "    cat['host_since_year'] = cat['host_since_year'].astype('O')\n",
    "    cat['first_review_year'] = cat['first_review_year'].astype('O')\n",
    "    cat['last_review_year'] = cat['last_review_year'].astype('O')\n",
    "    return(cat)\n",
    "\n",
    "cat = modificaciones_fechas(cat)"
   ]
  },
  {
   "cell_type": "code",
   "execution_count": 25,
   "id": "cd3c449b",
   "metadata": {
    "scrolled": true
   },
   "outputs": [
    {
     "data": {
      "text/html": [
       "<div>\n",
       "<style scoped>\n",
       "    .dataframe tbody tr th:only-of-type {\n",
       "        vertical-align: middle;\n",
       "    }\n",
       "\n",
       "    .dataframe tbody tr th {\n",
       "        vertical-align: top;\n",
       "    }\n",
       "\n",
       "    .dataframe thead th {\n",
       "        text-align: right;\n",
       "    }\n",
       "</style>\n",
       "<table border=\"1\" class=\"dataframe\">\n",
       "  <thead>\n",
       "    <tr style=\"text-align: right;\">\n",
       "      <th></th>\n",
       "      <th>air</th>\n",
       "      <th>air conditioning</th>\n",
       "      <th>allowed</th>\n",
       "      <th>and silverware</th>\n",
       "      <th>basics</th>\n",
       "      <th>bed</th>\n",
       "      <th>bed linens</th>\n",
       "      <th>body</th>\n",
       "      <th>body soap</th>\n",
       "      <th>cleaning</th>\n",
       "      <th>clothing</th>\n",
       "      <th>clothing storage</th>\n",
       "      <th>coffee</th>\n",
       "      <th>coffee maker</th>\n",
       "      <th>conditioning</th>\n",
       "      <th>cooking</th>\n",
       "      <th>cooking basics</th>\n",
       "      <th>dedicated</th>\n",
       "      <th>dedicated workspace</th>\n",
       "      <th>dishes</th>\n",
       "      <th>dishes and</th>\n",
       "      <th>dishes and silverware</th>\n",
       "      <th>dryer bed</th>\n",
       "      <th>dryer bed linens</th>\n",
       "      <th>elevator</th>\n",
       "      <th>freezer</th>\n",
       "      <th>hair</th>\n",
       "      <th>hair dryer</th>\n",
       "      <th>hair dryer bed</th>\n",
       "      <th>hot water iron</th>\n",
       "      <th>in</th>\n",
       "      <th>iron</th>\n",
       "      <th>kitchen essentials</th>\n",
       "      <th>linens</th>\n",
       "      <th>maker</th>\n",
       "      <th>microwave</th>\n",
       "      <th>microwave hangers</th>\n",
       "      <th>oven</th>\n",
       "      <th>parking</th>\n",
       "      <th>refrigerator</th>\n",
       "      <th>room</th>\n",
       "      <th>shampoo</th>\n",
       "      <th>silverware</th>\n",
       "      <th>soap</th>\n",
       "      <th>storage</th>\n",
       "      <th>stove</th>\n",
       "      <th>tv washer</th>\n",
       "      <th>water iron</th>\n",
       "      <th>wifi kitchen</th>\n",
       "      <th>workspace</th>\n",
       "    </tr>\n",
       "  </thead>\n",
       "  <tbody>\n",
       "    <tr>\n",
       "      <th>0</th>\n",
       "      <td>1</td>\n",
       "      <td>1</td>\n",
       "      <td>0</td>\n",
       "      <td>1</td>\n",
       "      <td>1</td>\n",
       "      <td>1</td>\n",
       "      <td>1</td>\n",
       "      <td>0</td>\n",
       "      <td>0</td>\n",
       "      <td>0</td>\n",
       "      <td>0</td>\n",
       "      <td>0</td>\n",
       "      <td>1</td>\n",
       "      <td>1</td>\n",
       "      <td>1</td>\n",
       "      <td>1</td>\n",
       "      <td>1</td>\n",
       "      <td>0</td>\n",
       "      <td>0</td>\n",
       "      <td>1</td>\n",
       "      <td>1</td>\n",
       "      <td>1</td>\n",
       "      <td>1</td>\n",
       "      <td>1</td>\n",
       "      <td>1</td>\n",
       "      <td>0</td>\n",
       "      <td>1</td>\n",
       "      <td>1</td>\n",
       "      <td>1</td>\n",
       "      <td>1</td>\n",
       "      <td>0</td>\n",
       "      <td>1</td>\n",
       "      <td>1</td>\n",
       "      <td>1</td>\n",
       "      <td>1</td>\n",
       "      <td>1</td>\n",
       "      <td>1</td>\n",
       "      <td>1</td>\n",
       "      <td>1</td>\n",
       "      <td>1</td>\n",
       "      <td>0</td>\n",
       "      <td>1</td>\n",
       "      <td>1</td>\n",
       "      <td>0</td>\n",
       "      <td>0</td>\n",
       "      <td>0</td>\n",
       "      <td>1</td>\n",
       "      <td>1</td>\n",
       "      <td>1</td>\n",
       "      <td>0</td>\n",
       "    </tr>\n",
       "    <tr>\n",
       "      <th>1</th>\n",
       "      <td>0</td>\n",
       "      <td>0</td>\n",
       "      <td>1</td>\n",
       "      <td>0</td>\n",
       "      <td>0</td>\n",
       "      <td>0</td>\n",
       "      <td>0</td>\n",
       "      <td>0</td>\n",
       "      <td>0</td>\n",
       "      <td>0</td>\n",
       "      <td>0</td>\n",
       "      <td>0</td>\n",
       "      <td>0</td>\n",
       "      <td>0</td>\n",
       "      <td>0</td>\n",
       "      <td>0</td>\n",
       "      <td>0</td>\n",
       "      <td>0</td>\n",
       "      <td>0</td>\n",
       "      <td>0</td>\n",
       "      <td>0</td>\n",
       "      <td>0</td>\n",
       "      <td>0</td>\n",
       "      <td>0</td>\n",
       "      <td>1</td>\n",
       "      <td>0</td>\n",
       "      <td>0</td>\n",
       "      <td>0</td>\n",
       "      <td>0</td>\n",
       "      <td>0</td>\n",
       "      <td>0</td>\n",
       "      <td>0</td>\n",
       "      <td>0</td>\n",
       "      <td>0</td>\n",
       "      <td>0</td>\n",
       "      <td>0</td>\n",
       "      <td>0</td>\n",
       "      <td>0</td>\n",
       "      <td>0</td>\n",
       "      <td>0</td>\n",
       "      <td>0</td>\n",
       "      <td>1</td>\n",
       "      <td>0</td>\n",
       "      <td>0</td>\n",
       "      <td>0</td>\n",
       "      <td>0</td>\n",
       "      <td>0</td>\n",
       "      <td>0</td>\n",
       "      <td>0</td>\n",
       "      <td>0</td>\n",
       "    </tr>\n",
       "    <tr>\n",
       "      <th>2</th>\n",
       "      <td>1</td>\n",
       "      <td>1</td>\n",
       "      <td>1</td>\n",
       "      <td>0</td>\n",
       "      <td>0</td>\n",
       "      <td>0</td>\n",
       "      <td>0</td>\n",
       "      <td>0</td>\n",
       "      <td>0</td>\n",
       "      <td>0</td>\n",
       "      <td>0</td>\n",
       "      <td>0</td>\n",
       "      <td>0</td>\n",
       "      <td>0</td>\n",
       "      <td>1</td>\n",
       "      <td>0</td>\n",
       "      <td>0</td>\n",
       "      <td>0</td>\n",
       "      <td>0</td>\n",
       "      <td>0</td>\n",
       "      <td>0</td>\n",
       "      <td>0</td>\n",
       "      <td>0</td>\n",
       "      <td>0</td>\n",
       "      <td>1</td>\n",
       "      <td>0</td>\n",
       "      <td>0</td>\n",
       "      <td>0</td>\n",
       "      <td>0</td>\n",
       "      <td>0</td>\n",
       "      <td>0</td>\n",
       "      <td>0</td>\n",
       "      <td>0</td>\n",
       "      <td>0</td>\n",
       "      <td>0</td>\n",
       "      <td>0</td>\n",
       "      <td>0</td>\n",
       "      <td>0</td>\n",
       "      <td>0</td>\n",
       "      <td>0</td>\n",
       "      <td>0</td>\n",
       "      <td>0</td>\n",
       "      <td>0</td>\n",
       "      <td>0</td>\n",
       "      <td>0</td>\n",
       "      <td>0</td>\n",
       "      <td>1</td>\n",
       "      <td>0</td>\n",
       "      <td>0</td>\n",
       "      <td>0</td>\n",
       "    </tr>\n",
       "    <tr>\n",
       "      <th>3</th>\n",
       "      <td>0</td>\n",
       "      <td>0</td>\n",
       "      <td>1</td>\n",
       "      <td>1</td>\n",
       "      <td>1</td>\n",
       "      <td>0</td>\n",
       "      <td>0</td>\n",
       "      <td>1</td>\n",
       "      <td>1</td>\n",
       "      <td>1</td>\n",
       "      <td>0</td>\n",
       "      <td>0</td>\n",
       "      <td>0</td>\n",
       "      <td>0</td>\n",
       "      <td>0</td>\n",
       "      <td>1</td>\n",
       "      <td>1</td>\n",
       "      <td>1</td>\n",
       "      <td>1</td>\n",
       "      <td>1</td>\n",
       "      <td>1</td>\n",
       "      <td>1</td>\n",
       "      <td>0</td>\n",
       "      <td>0</td>\n",
       "      <td>0</td>\n",
       "      <td>0</td>\n",
       "      <td>1</td>\n",
       "      <td>1</td>\n",
       "      <td>0</td>\n",
       "      <td>1</td>\n",
       "      <td>0</td>\n",
       "      <td>1</td>\n",
       "      <td>1</td>\n",
       "      <td>0</td>\n",
       "      <td>0</td>\n",
       "      <td>0</td>\n",
       "      <td>0</td>\n",
       "      <td>0</td>\n",
       "      <td>0</td>\n",
       "      <td>1</td>\n",
       "      <td>1</td>\n",
       "      <td>1</td>\n",
       "      <td>1</td>\n",
       "      <td>1</td>\n",
       "      <td>0</td>\n",
       "      <td>0</td>\n",
       "      <td>0</td>\n",
       "      <td>1</td>\n",
       "      <td>0</td>\n",
       "      <td>1</td>\n",
       "    </tr>\n",
       "    <tr>\n",
       "      <th>4</th>\n",
       "      <td>0</td>\n",
       "      <td>0</td>\n",
       "      <td>0</td>\n",
       "      <td>1</td>\n",
       "      <td>1</td>\n",
       "      <td>1</td>\n",
       "      <td>1</td>\n",
       "      <td>0</td>\n",
       "      <td>0</td>\n",
       "      <td>0</td>\n",
       "      <td>1</td>\n",
       "      <td>0</td>\n",
       "      <td>1</td>\n",
       "      <td>1</td>\n",
       "      <td>0</td>\n",
       "      <td>1</td>\n",
       "      <td>1</td>\n",
       "      <td>1</td>\n",
       "      <td>1</td>\n",
       "      <td>1</td>\n",
       "      <td>1</td>\n",
       "      <td>1</td>\n",
       "      <td>1</td>\n",
       "      <td>1</td>\n",
       "      <td>1</td>\n",
       "      <td>0</td>\n",
       "      <td>1</td>\n",
       "      <td>1</td>\n",
       "      <td>1</td>\n",
       "      <td>1</td>\n",
       "      <td>0</td>\n",
       "      <td>1</td>\n",
       "      <td>1</td>\n",
       "      <td>1</td>\n",
       "      <td>1</td>\n",
       "      <td>1</td>\n",
       "      <td>1</td>\n",
       "      <td>0</td>\n",
       "      <td>1</td>\n",
       "      <td>1</td>\n",
       "      <td>0</td>\n",
       "      <td>1</td>\n",
       "      <td>1</td>\n",
       "      <td>0</td>\n",
       "      <td>0</td>\n",
       "      <td>1</td>\n",
       "      <td>1</td>\n",
       "      <td>1</td>\n",
       "      <td>0</td>\n",
       "      <td>1</td>\n",
       "    </tr>\n",
       "    <tr>\n",
       "      <th>...</th>\n",
       "      <td>...</td>\n",
       "      <td>...</td>\n",
       "      <td>...</td>\n",
       "      <td>...</td>\n",
       "      <td>...</td>\n",
       "      <td>...</td>\n",
       "      <td>...</td>\n",
       "      <td>...</td>\n",
       "      <td>...</td>\n",
       "      <td>...</td>\n",
       "      <td>...</td>\n",
       "      <td>...</td>\n",
       "      <td>...</td>\n",
       "      <td>...</td>\n",
       "      <td>...</td>\n",
       "      <td>...</td>\n",
       "      <td>...</td>\n",
       "      <td>...</td>\n",
       "      <td>...</td>\n",
       "      <td>...</td>\n",
       "      <td>...</td>\n",
       "      <td>...</td>\n",
       "      <td>...</td>\n",
       "      <td>...</td>\n",
       "      <td>...</td>\n",
       "      <td>...</td>\n",
       "      <td>...</td>\n",
       "      <td>...</td>\n",
       "      <td>...</td>\n",
       "      <td>...</td>\n",
       "      <td>...</td>\n",
       "      <td>...</td>\n",
       "      <td>...</td>\n",
       "      <td>...</td>\n",
       "      <td>...</td>\n",
       "      <td>...</td>\n",
       "      <td>...</td>\n",
       "      <td>...</td>\n",
       "      <td>...</td>\n",
       "      <td>...</td>\n",
       "      <td>...</td>\n",
       "      <td>...</td>\n",
       "      <td>...</td>\n",
       "      <td>...</td>\n",
       "      <td>...</td>\n",
       "      <td>...</td>\n",
       "      <td>...</td>\n",
       "      <td>...</td>\n",
       "      <td>...</td>\n",
       "      <td>...</td>\n",
       "    </tr>\n",
       "    <tr>\n",
       "      <th>18134</th>\n",
       "      <td>1</td>\n",
       "      <td>1</td>\n",
       "      <td>0</td>\n",
       "      <td>1</td>\n",
       "      <td>1</td>\n",
       "      <td>1</td>\n",
       "      <td>1</td>\n",
       "      <td>1</td>\n",
       "      <td>1</td>\n",
       "      <td>0</td>\n",
       "      <td>1</td>\n",
       "      <td>1</td>\n",
       "      <td>1</td>\n",
       "      <td>1</td>\n",
       "      <td>1</td>\n",
       "      <td>1</td>\n",
       "      <td>1</td>\n",
       "      <td>1</td>\n",
       "      <td>1</td>\n",
       "      <td>1</td>\n",
       "      <td>1</td>\n",
       "      <td>1</td>\n",
       "      <td>1</td>\n",
       "      <td>1</td>\n",
       "      <td>0</td>\n",
       "      <td>0</td>\n",
       "      <td>1</td>\n",
       "      <td>1</td>\n",
       "      <td>1</td>\n",
       "      <td>0</td>\n",
       "      <td>0</td>\n",
       "      <td>0</td>\n",
       "      <td>0</td>\n",
       "      <td>1</td>\n",
       "      <td>1</td>\n",
       "      <td>1</td>\n",
       "      <td>1</td>\n",
       "      <td>1</td>\n",
       "      <td>0</td>\n",
       "      <td>1</td>\n",
       "      <td>1</td>\n",
       "      <td>1</td>\n",
       "      <td>1</td>\n",
       "      <td>1</td>\n",
       "      <td>1</td>\n",
       "      <td>0</td>\n",
       "      <td>1</td>\n",
       "      <td>0</td>\n",
       "      <td>1</td>\n",
       "      <td>1</td>\n",
       "    </tr>\n",
       "    <tr>\n",
       "      <th>18135</th>\n",
       "      <td>0</td>\n",
       "      <td>0</td>\n",
       "      <td>0</td>\n",
       "      <td>0</td>\n",
       "      <td>0</td>\n",
       "      <td>0</td>\n",
       "      <td>0</td>\n",
       "      <td>0</td>\n",
       "      <td>0</td>\n",
       "      <td>0</td>\n",
       "      <td>0</td>\n",
       "      <td>0</td>\n",
       "      <td>0</td>\n",
       "      <td>0</td>\n",
       "      <td>0</td>\n",
       "      <td>0</td>\n",
       "      <td>0</td>\n",
       "      <td>0</td>\n",
       "      <td>0</td>\n",
       "      <td>0</td>\n",
       "      <td>0</td>\n",
       "      <td>0</td>\n",
       "      <td>0</td>\n",
       "      <td>0</td>\n",
       "      <td>0</td>\n",
       "      <td>0</td>\n",
       "      <td>0</td>\n",
       "      <td>0</td>\n",
       "      <td>0</td>\n",
       "      <td>0</td>\n",
       "      <td>0</td>\n",
       "      <td>0</td>\n",
       "      <td>0</td>\n",
       "      <td>0</td>\n",
       "      <td>0</td>\n",
       "      <td>0</td>\n",
       "      <td>0</td>\n",
       "      <td>0</td>\n",
       "      <td>0</td>\n",
       "      <td>0</td>\n",
       "      <td>0</td>\n",
       "      <td>0</td>\n",
       "      <td>0</td>\n",
       "      <td>0</td>\n",
       "      <td>0</td>\n",
       "      <td>0</td>\n",
       "      <td>0</td>\n",
       "      <td>0</td>\n",
       "      <td>0</td>\n",
       "      <td>0</td>\n",
       "    </tr>\n",
       "    <tr>\n",
       "      <th>18136</th>\n",
       "      <td>1</td>\n",
       "      <td>1</td>\n",
       "      <td>0</td>\n",
       "      <td>1</td>\n",
       "      <td>1</td>\n",
       "      <td>1</td>\n",
       "      <td>1</td>\n",
       "      <td>1</td>\n",
       "      <td>1</td>\n",
       "      <td>0</td>\n",
       "      <td>1</td>\n",
       "      <td>1</td>\n",
       "      <td>1</td>\n",
       "      <td>1</td>\n",
       "      <td>1</td>\n",
       "      <td>1</td>\n",
       "      <td>1</td>\n",
       "      <td>1</td>\n",
       "      <td>1</td>\n",
       "      <td>1</td>\n",
       "      <td>1</td>\n",
       "      <td>1</td>\n",
       "      <td>1</td>\n",
       "      <td>1</td>\n",
       "      <td>0</td>\n",
       "      <td>1</td>\n",
       "      <td>1</td>\n",
       "      <td>1</td>\n",
       "      <td>1</td>\n",
       "      <td>0</td>\n",
       "      <td>0</td>\n",
       "      <td>0</td>\n",
       "      <td>0</td>\n",
       "      <td>1</td>\n",
       "      <td>1</td>\n",
       "      <td>1</td>\n",
       "      <td>1</td>\n",
       "      <td>1</td>\n",
       "      <td>0</td>\n",
       "      <td>1</td>\n",
       "      <td>1</td>\n",
       "      <td>1</td>\n",
       "      <td>1</td>\n",
       "      <td>1</td>\n",
       "      <td>1</td>\n",
       "      <td>0</td>\n",
       "      <td>1</td>\n",
       "      <td>0</td>\n",
       "      <td>1</td>\n",
       "      <td>1</td>\n",
       "    </tr>\n",
       "    <tr>\n",
       "      <th>18137</th>\n",
       "      <td>0</td>\n",
       "      <td>0</td>\n",
       "      <td>0</td>\n",
       "      <td>0</td>\n",
       "      <td>0</td>\n",
       "      <td>0</td>\n",
       "      <td>0</td>\n",
       "      <td>0</td>\n",
       "      <td>0</td>\n",
       "      <td>0</td>\n",
       "      <td>0</td>\n",
       "      <td>0</td>\n",
       "      <td>0</td>\n",
       "      <td>0</td>\n",
       "      <td>0</td>\n",
       "      <td>0</td>\n",
       "      <td>0</td>\n",
       "      <td>0</td>\n",
       "      <td>0</td>\n",
       "      <td>0</td>\n",
       "      <td>0</td>\n",
       "      <td>0</td>\n",
       "      <td>0</td>\n",
       "      <td>0</td>\n",
       "      <td>0</td>\n",
       "      <td>0</td>\n",
       "      <td>0</td>\n",
       "      <td>0</td>\n",
       "      <td>0</td>\n",
       "      <td>0</td>\n",
       "      <td>0</td>\n",
       "      <td>0</td>\n",
       "      <td>0</td>\n",
       "      <td>0</td>\n",
       "      <td>0</td>\n",
       "      <td>0</td>\n",
       "      <td>0</td>\n",
       "      <td>0</td>\n",
       "      <td>0</td>\n",
       "      <td>0</td>\n",
       "      <td>0</td>\n",
       "      <td>0</td>\n",
       "      <td>0</td>\n",
       "      <td>0</td>\n",
       "      <td>0</td>\n",
       "      <td>0</td>\n",
       "      <td>0</td>\n",
       "      <td>0</td>\n",
       "      <td>1</td>\n",
       "      <td>0</td>\n",
       "    </tr>\n",
       "    <tr>\n",
       "      <th>18138</th>\n",
       "      <td>1</td>\n",
       "      <td>1</td>\n",
       "      <td>1</td>\n",
       "      <td>0</td>\n",
       "      <td>0</td>\n",
       "      <td>0</td>\n",
       "      <td>0</td>\n",
       "      <td>0</td>\n",
       "      <td>0</td>\n",
       "      <td>0</td>\n",
       "      <td>0</td>\n",
       "      <td>0</td>\n",
       "      <td>0</td>\n",
       "      <td>0</td>\n",
       "      <td>1</td>\n",
       "      <td>0</td>\n",
       "      <td>0</td>\n",
       "      <td>0</td>\n",
       "      <td>0</td>\n",
       "      <td>0</td>\n",
       "      <td>0</td>\n",
       "      <td>0</td>\n",
       "      <td>0</td>\n",
       "      <td>0</td>\n",
       "      <td>0</td>\n",
       "      <td>0</td>\n",
       "      <td>0</td>\n",
       "      <td>0</td>\n",
       "      <td>0</td>\n",
       "      <td>0</td>\n",
       "      <td>0</td>\n",
       "      <td>0</td>\n",
       "      <td>0</td>\n",
       "      <td>0</td>\n",
       "      <td>0</td>\n",
       "      <td>0</td>\n",
       "      <td>0</td>\n",
       "      <td>0</td>\n",
       "      <td>1</td>\n",
       "      <td>0</td>\n",
       "      <td>0</td>\n",
       "      <td>0</td>\n",
       "      <td>0</td>\n",
       "      <td>0</td>\n",
       "      <td>0</td>\n",
       "      <td>0</td>\n",
       "      <td>1</td>\n",
       "      <td>0</td>\n",
       "      <td>0</td>\n",
       "      <td>0</td>\n",
       "    </tr>\n",
       "  </tbody>\n",
       "</table>\n",
       "<p>18139 rows × 50 columns</p>\n",
       "</div>"
      ],
      "text/plain": [
       "       air  air conditioning  allowed  and silverware  basics  bed  \\\n",
       "0        1                 1        0               1       1    1   \n",
       "1        0                 0        1               0       0    0   \n",
       "2        1                 1        1               0       0    0   \n",
       "3        0                 0        1               1       1    0   \n",
       "4        0                 0        0               1       1    1   \n",
       "...    ...               ...      ...             ...     ...  ...   \n",
       "18134    1                 1        0               1       1    1   \n",
       "18135    0                 0        0               0       0    0   \n",
       "18136    1                 1        0               1       1    1   \n",
       "18137    0                 0        0               0       0    0   \n",
       "18138    1                 1        1               0       0    0   \n",
       "\n",
       "       bed linens  body  body soap  cleaning  clothing  clothing storage  \\\n",
       "0               1     0          0         0         0                 0   \n",
       "1               0     0          0         0         0                 0   \n",
       "2               0     0          0         0         0                 0   \n",
       "3               0     1          1         1         0                 0   \n",
       "4               1     0          0         0         1                 0   \n",
       "...           ...   ...        ...       ...       ...               ...   \n",
       "18134           1     1          1         0         1                 1   \n",
       "18135           0     0          0         0         0                 0   \n",
       "18136           1     1          1         0         1                 1   \n",
       "18137           0     0          0         0         0                 0   \n",
       "18138           0     0          0         0         0                 0   \n",
       "\n",
       "       coffee  coffee maker  conditioning  cooking  cooking basics  dedicated  \\\n",
       "0           1             1             1        1               1          0   \n",
       "1           0             0             0        0               0          0   \n",
       "2           0             0             1        0               0          0   \n",
       "3           0             0             0        1               1          1   \n",
       "4           1             1             0        1               1          1   \n",
       "...       ...           ...           ...      ...             ...        ...   \n",
       "18134       1             1             1        1               1          1   \n",
       "18135       0             0             0        0               0          0   \n",
       "18136       1             1             1        1               1          1   \n",
       "18137       0             0             0        0               0          0   \n",
       "18138       0             0             1        0               0          0   \n",
       "\n",
       "       dedicated workspace  dishes  dishes and  dishes and silverware  \\\n",
       "0                        0       1           1                      1   \n",
       "1                        0       0           0                      0   \n",
       "2                        0       0           0                      0   \n",
       "3                        1       1           1                      1   \n",
       "4                        1       1           1                      1   \n",
       "...                    ...     ...         ...                    ...   \n",
       "18134                    1       1           1                      1   \n",
       "18135                    0       0           0                      0   \n",
       "18136                    1       1           1                      1   \n",
       "18137                    0       0           0                      0   \n",
       "18138                    0       0           0                      0   \n",
       "\n",
       "       dryer bed  dryer bed linens  elevator  freezer  hair  hair dryer  \\\n",
       "0              1                 1         1        0     1           1   \n",
       "1              0                 0         1        0     0           0   \n",
       "2              0                 0         1        0     0           0   \n",
       "3              0                 0         0        0     1           1   \n",
       "4              1                 1         1        0     1           1   \n",
       "...          ...               ...       ...      ...   ...         ...   \n",
       "18134          1                 1         0        0     1           1   \n",
       "18135          0                 0         0        0     0           0   \n",
       "18136          1                 1         0        1     1           1   \n",
       "18137          0                 0         0        0     0           0   \n",
       "18138          0                 0         0        0     0           0   \n",
       "\n",
       "       hair dryer bed  hot water iron  in  iron  kitchen essentials  linens  \\\n",
       "0                   1               1   0     1                   1       1   \n",
       "1                   0               0   0     0                   0       0   \n",
       "2                   0               0   0     0                   0       0   \n",
       "3                   0               1   0     1                   1       0   \n",
       "4                   1               1   0     1                   1       1   \n",
       "...               ...             ...  ..   ...                 ...     ...   \n",
       "18134               1               0   0     0                   0       1   \n",
       "18135               0               0   0     0                   0       0   \n",
       "18136               1               0   0     0                   0       1   \n",
       "18137               0               0   0     0                   0       0   \n",
       "18138               0               0   0     0                   0       0   \n",
       "\n",
       "       maker  microwave  microwave hangers  oven  parking  refrigerator  room  \\\n",
       "0          1          1                  1     1        1             1     0   \n",
       "1          0          0                  0     0        0             0     0   \n",
       "2          0          0                  0     0        0             0     0   \n",
       "3          0          0                  0     0        0             1     1   \n",
       "4          1          1                  1     0        1             1     0   \n",
       "...      ...        ...                ...   ...      ...           ...   ...   \n",
       "18134      1          1                  1     1        0             1     1   \n",
       "18135      0          0                  0     0        0             0     0   \n",
       "18136      1          1                  1     1        0             1     1   \n",
       "18137      0          0                  0     0        0             0     0   \n",
       "18138      0          0                  0     0        1             0     0   \n",
       "\n",
       "       shampoo  silverware  soap  storage  stove  tv washer  water iron  \\\n",
       "0            1           1     0        0      0          1           1   \n",
       "1            1           0     0        0      0          0           0   \n",
       "2            0           0     0        0      0          1           0   \n",
       "3            1           1     1        0      0          0           1   \n",
       "4            1           1     0        0      1          1           1   \n",
       "...        ...         ...   ...      ...    ...        ...         ...   \n",
       "18134        1           1     1        1      0          1           0   \n",
       "18135        0           0     0        0      0          0           0   \n",
       "18136        1           1     1        1      0          1           0   \n",
       "18137        0           0     0        0      0          0           0   \n",
       "18138        0           0     0        0      0          1           0   \n",
       "\n",
       "       wifi kitchen  workspace  \n",
       "0                 1          0  \n",
       "1                 0          0  \n",
       "2                 0          0  \n",
       "3                 0          1  \n",
       "4                 0          1  \n",
       "...             ...        ...  \n",
       "18134             1          1  \n",
       "18135             0          0  \n",
       "18136             1          1  \n",
       "18137             1          0  \n",
       "18138             0          0  \n",
       "\n",
       "[18139 rows x 50 columns]"
      ]
     },
     "execution_count": 25,
     "metadata": {},
     "output_type": "execute_result"
    }
   ],
   "source": [
    "def variables_texto(cat):    \n",
    "    #Cargamos la lista de stopwords en un dataframe. La lista la tendremos que descargar y ubicar antes de hacer nada \n",
    "    stopwords = pd.read_csv('C:/Users/Oscar/OneDrive - FM4/Escritorio/Python Data Mastery/EstructuraDirectorio/03_MACHINE_LEARNING/08_CASOS/007_AIRBNB/01_Documentos/stop_words_spanish.txt',names = ['termino'])\n",
    "\n",
    "    #Función para quitar todas las tides de las vocales\n",
    "    def quitar_tildes(palabra):\n",
    "        #Definimos la versión con tildes y símbolos y la sin\n",
    "        con = 'áéíóúüñÁÉÍÓÚÜÑ'\n",
    "        sin = 'aeiouunAEIOUUN'\n",
    "        #Creamos un traductor\n",
    "        traductor = str.maketrans(con,sin)\n",
    "        #Aplicamos el traductor y devolvemos la palabra limpia\n",
    "        return(palabra.translate(traductor))\n",
    "\n",
    "    #Creamos una nueva columna en el dataframe de stopwords llamada 'limpias'\n",
    "    stopwords['limpias'] = stopwords.termino.transform(quitar_tildes)\n",
    "\n",
    "    #Cargamos el modelo\n",
    "    from sklearn.feature_extraction.text import CountVectorizer\n",
    "\n",
    "    #Instanciamos\n",
    "    cv = CountVectorizer(strip_accents = 'unicode',\n",
    "                         stop_words = stopwords.limpias.to_list(),\n",
    "                         max_df = 0.7,\n",
    "                         min_df = 50,\n",
    "                         max_features = 50,\n",
    "                         ngram_range = (1,3),#Contemplará como términos correctos los que estén compuestos por 1, 2 y 3 palabras\n",
    "                         binary=True)\n",
    "\n",
    "    #Entrenamos\n",
    "    cv.fit(cat.amenities)\n",
    "    \n",
    "    # Guarda a disco como modelo para que la separación de los términos sea siempre la misma\n",
    "    with open(\"count_vectorizer.pkl\", \"wb\") as f:\n",
    "        pickle.dump(cv, f)       \n",
    "\n",
    "    # Cargar el vectorizador guardado\n",
    "    with open(\"count_vectorizer.pkl\", \"rb\") as f:\n",
    "        cv = pickle.load(f)    \n",
    "\n",
    "    #Aplicamos\n",
    "    caracteristicas = cv.transform(cat.amenities)\n",
    "    caracteristicas\n",
    "\n",
    "    #Podemos ver el vocabulario total encontrado y su número de columna.\n",
    "    tt = cv.vocabulary_\n",
    "    tt\n",
    "\n",
    "    #Para pasar a dataframe el vocabulario encontrado con sus nombres de columnas y ordenado\n",
    "    vo = pd.DataFrame(list(tt.items()), columns=['Termino', 'Indice']).sort_values('Indice')\n",
    "    vo\n",
    "\n",
    "    #Definimos un dataframe con los términos encontrados transformados a variables que mapean las columnas donde se encuentran\n",
    "    terminos = pd.DataFrame(caracteristicas.toarray(), columns=cv.get_feature_names_out())\n",
    "    return(terminos)\n",
    "df_terminos = variables_texto(cat)\n",
    "df_terminos\n",
    "\n"
   ]
  },
  {
   "cell_type": "code",
   "execution_count": 26,
   "id": "4c0dd74b",
   "metadata": {},
   "outputs": [
    {
     "data": {
      "text/plain": [
       "['air',\n",
       " 'air conditioning',\n",
       " 'allowed',\n",
       " 'and silverware',\n",
       " 'basics',\n",
       " 'bed',\n",
       " 'bed linens',\n",
       " 'body',\n",
       " 'body soap',\n",
       " 'cleaning',\n",
       " 'clothing',\n",
       " 'clothing storage',\n",
       " 'coffee',\n",
       " 'coffee maker',\n",
       " 'conditioning',\n",
       " 'cooking',\n",
       " 'cooking basics',\n",
       " 'dedicated',\n",
       " 'dedicated workspace',\n",
       " 'dishes',\n",
       " 'dishes and',\n",
       " 'dishes and silverware',\n",
       " 'dryer bed',\n",
       " 'dryer bed linens',\n",
       " 'elevator',\n",
       " 'freezer',\n",
       " 'hair',\n",
       " 'hair dryer',\n",
       " 'hair dryer bed',\n",
       " 'hot water iron',\n",
       " 'in',\n",
       " 'iron',\n",
       " 'kitchen essentials',\n",
       " 'linens',\n",
       " 'maker',\n",
       " 'microwave',\n",
       " 'microwave hangers',\n",
       " 'oven',\n",
       " 'parking',\n",
       " 'refrigerator',\n",
       " 'room',\n",
       " 'shampoo',\n",
       " 'silverware',\n",
       " 'soap',\n",
       " 'storage',\n",
       " 'stove',\n",
       " 'tv washer',\n",
       " 'water iron',\n",
       " 'wifi kitchen',\n",
       " 'workspace']"
      ]
     },
     "execution_count": 26,
     "metadata": {},
     "output_type": "execute_result"
    }
   ],
   "source": [
    "list(df_terminos)"
   ]
  },
  {
   "cell_type": "markdown",
   "id": "642424dd",
   "metadata": {},
   "source": [
    "### 4.1. Discretizar variables"
   ]
  },
  {
   "cell_type": "markdown",
   "id": "c64f3ba0",
   "metadata": {},
   "source": [
    "#### 4.1.1. Mediante distancia similar"
   ]
  },
  {
   "cell_type": "markdown",
   "id": "091f0d77",
   "metadata": {},
   "source": [
    "##### Variables a discretizar mediante distancia similar"
   ]
  },
  {
   "cell_type": "code",
   "execution_count": 27,
   "id": "cd8ef4c2",
   "metadata": {},
   "outputs": [],
   "source": [
    "num.info()"
   ]
  },
  {
   "cell_type": "code",
   "execution_count": 28,
   "id": "cb476fc3",
   "metadata": {},
   "outputs": [],
   "source": [
    "var_disc_ds = ['bathrooms',\n",
    " 'price',\n",
    " 'minimum_nights',\n",
    " 'maximum_nights',\n",
    " 'calculated_host_listings_count',\n",
    " 'calculated_host_listings_count_entire_homes',\n",
    " 'calculated_host_listings_count_private_rooms',\n",
    " 'calculated_host_listings_count_shared_rooms',\n",
    " 'accommodates',\n",
    " 'beds',\n",
    " 'bedrooms',\n",
    " 'number_of_reviews']"
   ]
  },
  {
   "cell_type": "markdown",
   "id": "19adfbfa",
   "metadata": {},
   "source": [
    "##### Instanciar"
   ]
  },
  {
   "cell_type": "code",
   "execution_count": 29,
   "id": "1377d7f9",
   "metadata": {},
   "outputs": [],
   "source": [
    "disc_ds = KBinsDiscretizer(n_bins = 6, strategy = 'uniform', encode = 'ordinal')"
   ]
  },
  {
   "cell_type": "markdown",
   "id": "6d463d99",
   "metadata": {},
   "source": [
    "##### Entrenar y aplicar"
   ]
  },
  {
   "cell_type": "code",
   "execution_count": 30,
   "id": "a0f81090",
   "metadata": {
    "scrolled": false
   },
   "outputs": [],
   "source": [
    "num_disc_ds = disc_ds.fit_transform(num[var_disc_ds])"
   ]
  },
  {
   "cell_type": "markdown",
   "id": "6053e6b4",
   "metadata": {},
   "source": [
    "##### Guardar como dataframe"
   ]
  },
  {
   "cell_type": "code",
   "execution_count": 31,
   "id": "6e9b7308",
   "metadata": {},
   "outputs": [],
   "source": [
    "#Añadir sufijos a los nombres\n",
    "nombres_ds = [variable + '_disc_ds' for variable in var_disc_ds]\n",
    "\n",
    "#Guardar como dataframe\n",
    "num_disc_ds = pd.DataFrame(num_disc_ds,columns = nombres_ds)"
   ]
  },
  {
   "cell_type": "markdown",
   "id": "f9236382",
   "metadata": {},
   "source": [
    "### Normalizar (Gauss)"
   ]
  },
  {
   "cell_type": "markdown",
   "id": "88914eb7",
   "metadata": {},
   "source": [
    "#### Con Yeo-Johnson"
   ]
  },
  {
   "cell_type": "markdown",
   "id": "6100725a",
   "metadata": {},
   "source": [
    "##### Variables a normalizar con Yeo-Johnson"
   ]
  },
  {
   "cell_type": "code",
   "execution_count": 32,
   "id": "cbf0c1e7",
   "metadata": {},
   "outputs": [],
   "source": [
    "var_yeo = ['host_response_rate',\n",
    "           'accommodates',\n",
    "           'maximum_nights',\n",
    "           'price',\n",
    "           'availability_30',\n",
    "           'availability_60',\n",
    "           'availability_90',\n",
    "           'availability_365']"
   ]
  },
  {
   "cell_type": "markdown",
   "id": "08bb021b",
   "metadata": {},
   "source": [
    "##### Instanciar"
   ]
  },
  {
   "cell_type": "code",
   "execution_count": 33,
   "id": "c05e68fa",
   "metadata": {},
   "outputs": [],
   "source": [
    "yeo = PowerTransformer(method = 'yeo-johnson')"
   ]
  },
  {
   "cell_type": "markdown",
   "id": "6fbb1f59",
   "metadata": {},
   "source": [
    "##### Entrenar y aplicar"
   ]
  },
  {
   "cell_type": "code",
   "execution_count": 34,
   "id": "7b73e186",
   "metadata": {},
   "outputs": [],
   "source": [
    "num_yeo = yeo.fit_transform(num[var_yeo])"
   ]
  },
  {
   "cell_type": "markdown",
   "id": "0671da14",
   "metadata": {},
   "source": [
    "##### Guardar como dataframe"
   ]
  },
  {
   "cell_type": "code",
   "execution_count": 35,
   "id": "f761cf7a",
   "metadata": {},
   "outputs": [],
   "source": [
    "#Añadir sufijos a los nombres\n",
    "nombres_yeo = [variable + '_yeo' for variable in var_yeo]\n",
    "\n",
    "#Guardar como dataframe\n",
    "num_yeo = pd.DataFrame(num_yeo,columns = nombres_yeo)"
   ]
  },
  {
   "cell_type": "markdown",
   "id": "62dde5eb",
   "metadata": {},
   "source": [
    "## 5. UNIFICAR DATASETS TRANSFORMADOS"
   ]
  },
  {
   "cell_type": "markdown",
   "id": "71fdbd1c",
   "metadata": {},
   "source": [
    "### 5.1. Meter en una lista todos los dataframes generados"
   ]
  },
  {
   "cell_type": "code",
   "execution_count": 36,
   "id": "36e1f842",
   "metadata": {},
   "outputs": [],
   "source": [
    "dataframes = []\n",
    "dataframes.extend(value for name, value in locals().items() if name.startswith('cat_') or name.startswith('num_'))"
   ]
  },
  {
   "cell_type": "markdown",
   "id": "10532530",
   "metadata": {},
   "source": [
    "### 5.2. Unir todos los dataframes"
   ]
  },
  {
   "cell_type": "code",
   "execution_count": 37,
   "id": "7119872d",
   "metadata": {},
   "outputs": [],
   "source": [
    "df = pd.concat(dataframes, axis = 1)"
   ]
  },
  {
   "cell_type": "code",
   "execution_count": 38,
   "id": "9cc81a1f",
   "metadata": {},
   "outputs": [],
   "source": [
    "df"
   ]
  },
  {
   "cell_type": "markdown",
   "id": "6944a4ef",
   "metadata": {},
   "source": [
    "## 6.  REESCALAR VARIABLES"
   ]
  },
  {
   "cell_type": "markdown",
   "id": "8d5b067c",
   "metadata": {},
   "source": [
    "### 6.1. Con Min-Max"
   ]
  },
  {
   "cell_type": "code",
   "execution_count": 39,
   "id": "656ae8d6",
   "metadata": {
    "scrolled": false
   },
   "outputs": [],
   "source": [
    "#Sacamos un info porque lo ideal es reescalar las variables que no hayan sido resultado de un OneHoteEncoding\n",
    "list(df)"
   ]
  },
  {
   "cell_type": "markdown",
   "id": "ff983e59",
   "metadata": {},
   "source": [
    "#### 6.1.1. Variables a reescalar con Min-Max"
   ]
  },
  {
   "cell_type": "code",
   "execution_count": 40,
   "id": "2d05a9d1",
   "metadata": {},
   "outputs": [],
   "source": [
    "var_mms = ['host_response_time_oe',\n",
    " 'host_is_superhost_oe',\n",
    " 'host_verifications_oe',\n",
    " 'host_has_profile_pic_oe',\n",
    " 'host_identity_verified_oe',\n",
    " 'has_availability_oe',\n",
    " 'license_oe',\n",
    " 'instant_bookable_oe',\n",
    " 'bathrooms_disc_ds',\n",
    " 'price_disc_ds',\n",
    " 'minimum_nights_disc_ds',\n",
    " 'maximum_nights_disc_ds',\n",
    " 'calculated_host_listings_count_disc_ds',\n",
    " 'calculated_host_listings_count_entire_homes_disc_ds',\n",
    " 'calculated_host_listings_count_private_rooms_disc_ds',\n",
    " 'calculated_host_listings_count_shared_rooms_disc_ds',\n",
    " 'accommodates_disc_ds',\n",
    " 'beds_disc_ds',\n",
    " 'bedrooms_disc_ds',\n",
    " 'number_of_reviews_disc_ds',\n",
    " 'host_response_rate_yeo',\n",
    " 'accommodates_yeo',\n",
    " 'maximum_nights_yeo',\n",
    " 'price_yeo',\n",
    " 'availability_30_yeo',\n",
    " 'availability_60_yeo',\n",
    " 'availability_90_yeo',\n",
    " 'availability_365_yeo']"
   ]
  },
  {
   "cell_type": "markdown",
   "id": "631066f4",
   "metadata": {},
   "source": [
    "#### 6.1.2. Instanciar"
   ]
  },
  {
   "cell_type": "code",
   "execution_count": 41,
   "id": "bf3d58fc",
   "metadata": {},
   "outputs": [],
   "source": [
    "mms = MinMaxScaler()"
   ]
  },
  {
   "cell_type": "markdown",
   "id": "27517015",
   "metadata": {},
   "source": [
    "#### 6.1.3. Entrenar y aplicar"
   ]
  },
  {
   "cell_type": "code",
   "execution_count": 42,
   "id": "175a492f",
   "metadata": {},
   "outputs": [],
   "source": [
    "df_mms = mms.fit_transform(df[var_mms])"
   ]
  },
  {
   "cell_type": "markdown",
   "id": "6d298b31",
   "metadata": {},
   "source": [
    "#### 6.1.4. Guardar como dataframe"
   ]
  },
  {
   "cell_type": "code",
   "execution_count": 43,
   "id": "73f2bf11",
   "metadata": {},
   "outputs": [],
   "source": [
    "#Añadir sufijos a los nombres\n",
    "nombres_mms = [variable + '_mms' for variable in var_mms]\n",
    "#Guardar como dataframe\n",
    "df_mms = pd.DataFrame(df_mms,columns = nombres_mms)\n",
    "df_mms"
   ]
  },
  {
   "cell_type": "markdown",
   "id": "e2cbc167",
   "metadata": {},
   "source": [
    "## 7. UNIFICAR DATASETS REESCALADOS"
   ]
  },
  {
   "cell_type": "markdown",
   "id": "de6eacd6",
   "metadata": {},
   "source": [
    "### 7.1. Crear una lista con los dataframes a incluir en el tablón analítico"
   ]
  },
  {
   "cell_type": "code",
   "execution_count": 44,
   "id": "b6b650ee",
   "metadata": {},
   "outputs": [],
   "source": [
    "incluir = [df, \n",
    "           df_mms, #df MinMax Scaler\n",
    "           #df_rs, #df Robust Scaler\n",
    "           #df_ss, #df Standard Scaler\n",
    "           df_terminos,\n",
    "           target\n",
    "           ]"
   ]
  },
  {
   "cell_type": "markdown",
   "id": "896b066a",
   "metadata": {},
   "source": [
    "### 7.2. Unir todos los dataframes en el tablón analítico"
   ]
  },
  {
   "cell_type": "code",
   "execution_count": 45,
   "id": "59f34aaa",
   "metadata": {},
   "outputs": [],
   "source": [
    "df_tablon = pd.concat(incluir, axis = 1)"
   ]
  },
  {
   "cell_type": "code",
   "execution_count": 46,
   "id": "e28a8a82",
   "metadata": {
    "scrolled": true
   },
   "outputs": [],
   "source": [
    "#Detectamos que se han generado 7774 nulos \n",
    "df_tablon.isna().sum().head()"
   ]
  },
  {
   "cell_type": "code",
   "execution_count": 47,
   "id": "96d827e7",
   "metadata": {},
   "outputs": [],
   "source": [
    "criterio = 3 #Mínimo de variables SIN nulos por registro. Se elimina el registro si hay menos de esas variables sin nulos\n",
    "df_tablon.dropna(thresh=criterio, inplace=True)\n",
    "df_tablon.isna().sum().sort_values(ascending=True)"
   ]
  },
  {
   "cell_type": "markdown",
   "id": "22a7094a",
   "metadata": {},
   "source": [
    "## 8. GUARDAR DATASET TRAS TRANSFORMACIÓN DE DATOS"
   ]
  },
  {
   "cell_type": "markdown",
   "id": "ce2daafe",
   "metadata": {},
   "source": [
    "En formato pickle para no perder las modificaciones de metadatos."
   ]
  },
  {
   "cell_type": "code",
   "execution_count": 48,
   "id": "897b5218",
   "metadata": {},
   "outputs": [],
   "source": [
    "#Definir los nombres del archivo\n",
    "ruta_df_tablon = ruta_proyecto + '/02_Datos/03_Trabajo/' + 'df_tablon.pickle'"
   ]
  },
  {
   "cell_type": "code",
   "execution_count": 49,
   "id": "554ec982",
   "metadata": {},
   "outputs": [],
   "source": [
    "#Guardar los archivos\n",
    "df_tablon.to_pickle(ruta_df_tablon)"
   ]
  },
  {
   "cell_type": "code",
   "execution_count": 50,
   "id": "a8f18b3f",
   "metadata": {
    "scrolled": true
   },
   "outputs": [],
   "source": [
    "df_tablon"
   ]
  },
  {
   "cell_type": "code",
   "execution_count": null,
   "id": "ca28dcb9",
   "metadata": {},
   "outputs": [],
   "source": []
  }
 ],
 "metadata": {
  "kernelspec": {
   "display_name": "Python 3 (ipykernel)",
   "language": "python",
   "name": "python3"
  },
  "language_info": {
   "codemirror_mode": {
    "name": "ipython",
    "version": 3
   },
   "file_extension": ".py",
   "mimetype": "text/x-python",
   "name": "python",
   "nbconvert_exporter": "python",
   "pygments_lexer": "ipython3",
   "version": "3.11.11"
  },
  "toc": {
   "base_numbering": 1,
   "nav_menu": {},
   "number_sections": true,
   "sideBar": true,
   "skip_h1_title": false,
   "title_cell": "Table of Contents",
   "title_sidebar": "Contents",
   "toc_cell": false,
   "toc_position": {
    "height": "calc(100% - 180px)",
    "left": "10px",
    "top": "150px",
    "width": "346.944px"
   },
   "toc_section_display": true,
   "toc_window_display": false
  },
  "varInspector": {
   "cols": {
    "lenName": 16,
    "lenType": 16,
    "lenVar": 40
   },
   "kernels_config": {
    "python": {
     "delete_cmd_postfix": "",
     "delete_cmd_prefix": "del ",
     "library": "var_list.py",
     "varRefreshCmd": "print(var_dic_list())"
    },
    "r": {
     "delete_cmd_postfix": ") ",
     "delete_cmd_prefix": "rm(",
     "library": "var_list.r",
     "varRefreshCmd": "cat(var_dic_list()) "
    }
   },
   "position": {
    "height": "546.85px",
    "left": "890.75px",
    "right": "20px",
    "top": "117px",
    "width": "350px"
   },
   "types_to_exclude": [
    "module",
    "function",
    "builtin_function_or_method",
    "instance",
    "_Feature"
   ],
   "window_display": false
  }
 },
 "nbformat": 4,
 "nbformat_minor": 5
}
