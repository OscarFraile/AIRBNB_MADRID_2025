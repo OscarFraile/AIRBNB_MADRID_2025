{
 "cells": [
  {
   "cell_type": "markdown",
   "id": "cf3ef97e",
   "metadata": {},
   "source": [
    "# SET UP AUTOMATION"
   ]
  },
  {
   "cell_type": "markdown",
   "id": "f1f172ca",
   "metadata": {},
   "source": [
    "## 1. CREAR EL ENTORNO PARA EL PROYECTO"
   ]
  },
  {
   "cell_type": "markdown",
   "id": "3415e666",
   "metadata": {},
   "source": [
    "Crear un nuevo entorno e instalar los paquetes básicos:\n",
    "\n",
    "1. Creamos el entorno con los paquetes empecíficos\n",
    "\n",
    "conda create --name 007_airbnb -c conda-forge python=3.11.11 numpy pandas matplotlib seaborn scikit-learn=1.3.1 scipy=1.9.3 sqlalchemy xgboost=2.0.3 jupyter\n",
    "\n",
    "3. Activar el nuevo entorno: conda activate 007_airbnb\n",
    "\n",
    "4. Instalar los paquetes que están en otros canales:\n",
    "\n",
    "conda install -c conda-forge pyjanitor scikit-plot yellowbrick imbalanced-learn jupyter_contrib_nbextensions cloudpickle jupyter_client folium\n",
    "\n",
    "conda install -c districtdatalabs yellowbrick\n",
    "\n",
    "pip install category_encoders==2.6.2\n",
    "\n",
    "5. Crear el environment.yml: conda env export > 007_airbnb.yml"
   ]
  },
  {
   "cell_type": "markdown",
   "id": "bb848481",
   "metadata": {},
   "source": [
    "## 2. IMPORTAR PAQUETES"
   ]
  },
  {
   "cell_type": "code",
   "execution_count": 1,
   "id": "5b9d24bb",
   "metadata": {},
   "outputs": [],
   "source": [
    "#Posibles paquetes necesarios para el desarrollo del proyecto. No harán falta todos siempre. Seleccionar los necesarios\n",
    "import os\n",
    "import numpy as np\n",
    "import pandas as pd\n",
    "import pickle  \n",
    "import cloudpickle #Mismas funciones de pickle de guardar modelos + funciones de guardado de las funciones específicasimport seaborn as sns\n",
    "import sqlalchemy as sa\n",
    "import scipy as sp\n",
    "import matplotlib.pyplot as plt\n",
    "%matplotlib inline\n",
    "%config IPCompleter.greedy = True\n",
    "\n",
    "#Formato sin notación científica\n",
    "pd.options.display.float_format = '{:15.2f}'.format \n",
    "\n",
    "#Automcompletar rápido\n",
    "%config IPCompleter.greedy=True\n",
    "\n",
    "#Desactivar la notación científica\n",
    "pd.options.display.float_format = '{:.2f}'.format\n",
    "\n",
    "#Desactivar los warnings\n",
    "import warnings\n",
    "warnings.filterwarnings(\"ignore\")\n",
    "\n",
    "#Mostrar el máximo de filas posibles de una tabla\n",
    "pd.set_option('display.max_rows', 100) #Número de filas que deben verse. None = Máx\n",
    "\n",
    "#Mostrar mas caracteres de las columnas. Se usa cuando se corta el texto\n",
    "pd.set_option('display.max_colwidth', None) #Número de caractres que deben verse. None = Máx\n",
    "\n",
    "#Representación visual de un pipeline\n",
    "from sklearn import set_config\n",
    "set_config(display = 'diagram') #diagram/text \n",
    "\n",
    "#Transformación de variables\n",
    "from janitor import clean_names\n",
    "from sklearn.pipeline import Pipeline\n",
    "from sklearn.preprocessing import FunctionTransformer\n",
    "from sklearn.compose import make_column_transformer\n",
    "from sklearn.pipeline import make_pipeline\n",
    "from sklearn.model_selection import GridSearchCV\n",
    "from sklearn.model_selection import RandomizedSearchCV\n",
    "\n",
    "from sklearn.preprocessing import OneHotEncoder\n",
    "from sklearn.preprocessing import OrdinalEncoder\n",
    "from sklearn.preprocessing import LabelEncoder\n",
    "from sklearn.preprocessing import TargetEncoder\n",
    "from sklearn.preprocessing import KBinsDiscretizer\n",
    "from sklearn.preprocessing import Binarizer\n",
    "from sklearn.preprocessing import PowerTransformer\n",
    "from sklearn.preprocessing import QuantileTransformer\n",
    "from sklearn.feature_extraction.text import CountVectorizer\n",
    "from sklearn.feature_extraction.text import TfidfVectorizer\n",
    "from sklearn.preprocessing import MinMaxScaler\n",
    "from sklearn.preprocessing import StandardScaler\n",
    "from sklearn.preprocessing import RobustScaler\n",
    "from sklearn.preprocessing import MaxAbsScaler\n",
    "from imblearn.under_sampling import RandomUnderSampler\n",
    "from imblearn.over_sampling import RandomOverSampler\n",
    "\n",
    "#Modelos ML: CLASIFICACIÓN\n",
    "from sklearn.model_selection import train_test_split\n",
    "from sklearn.linear_model import LogisticRegression\n",
    "from sklearn.ensemble import RandomForestClassifier\n",
    "from xgboost import XGBClassifier\n",
    "from sklearn.ensemble import HistGradientBoostingClassifier\n",
    "#Métrica de error: Habrá que incluir la que necesitemos\n",
    "from sklearn.metrics import roc_auc_score\n",
    "\n",
    "#Modelos ML: REGRESIÓN\n",
    "from sklearn.model_selection import train_test_split\n",
    "from sklearn.linear_model import LinearRegression\n",
    "from sklearn.ensemble import RandomForestRegressor\n",
    "from xgboost import XGBRegressor\n",
    "from sklearn.ensemble import HistGradientBoostingRegressor\n",
    "from sklearn.linear_model import Ridge\n",
    "from sklearn.linear_model import Lasso\n",
    "#Métrica de error: Habrá que incluir la que necesitemos\n",
    "from sklearn.metrics import mean_absolute_error\n",
    "\n",
    "#Modelos ML: NO SUPERVISADO\n",
    "from sklearn.model_selection import train_test_split\n",
    "from sklearn.cluster import KMeans\n",
    "from sklearn.metrics import silhouette_score\n",
    "from sklearn.metrics import calinski_harabasz_score\n",
    "from sklearn.metrics import davies_bouldin_score"
   ]
  },
  {
   "cell_type": "markdown",
   "id": "39ca0952",
   "metadata": {},
   "source": [
    "## 3. CREAR EL DIRECTORIO DEL PROYECTO"
   ]
  },
  {
   "cell_type": "code",
   "execution_count": 2,
   "id": "da15614a",
   "metadata": {},
   "outputs": [],
   "source": [
    "#Ubicamos el proyecto y el nombre \n",
    "raiz = 'C:/Users/Oscar/OneDrive - FM4/Escritorio/Python Data Mastery/EstructuraDirectorio/03_MACHINE_LEARNING/'\n",
    "nombre_carpeta = '08_CASOS/'\n",
    "nombre_proyecto = '007_AIRBNB'\n",
    "path = raiz + nombre_carpeta + nombre_proyecto"
   ]
  },
  {
   "cell_type": "code",
   "execution_count": 3,
   "id": "32b8079d",
   "metadata": {},
   "outputs": [
    {
     "name": "stdout",
     "output_type": "stream",
     "text": [
      "La creación del directorio C:/Users/Oscar/OneDrive - FM4/Escritorio/Python Data Mastery/EstructuraDirectorio/03_MACHINE_LEARNING/08_CASOS/007_AIRBNB ha fallado\n"
     ]
    }
   ],
   "source": [
    "#Definimos la estructura de carpetas y la jerarquía que creará. Si quisieramos mas jerarquía, la pondríamos como carpeta \n",
    "try:\n",
    "    os.makedirs(path)\n",
    "    os.makedirs(path + '/01_Documentos')\n",
    "    os.makedirs(path + '/02_Datos')\n",
    "    os.makedirs(path + '/02_Datos/01_Originales')\n",
    "    os.makedirs(path + '/02_Datos/02_Validacion')\n",
    "    os.makedirs(path + '/02_Datos/03_Trabajo')\n",
    "    os.makedirs(path + '/02_Datos/04_Caches')\n",
    "    os.makedirs(path + '/03_Notebooks')\n",
    "    os.makedirs(path + '/03_Notebooks/01_Funciones')\n",
    "    os.makedirs(path + '/03_Notebooks/02_Desarrollo')\n",
    "    os.makedirs(path + '/03_Notebooks/03_Sistema')\n",
    "    os.makedirs(path + '/04_Modelos')\n",
    "    os.makedirs(path + '/05_Resultados')\n",
    "    os.makedirs(path + '/09_Otros')\n",
    "    \n",
    "except OSError:\n",
    "    print (\"La creación del directorio %s ha fallado\" % path)\n",
    "else:\n",
    "    print (\"Se ha creado satisfactoriamente el directorio %s \" % path)\n",
    "\n",
    "#Situar el directorio de trabajo en el proyecto\n",
    "os.chdir(path)\n",
    "\n",
    "#Buscar el archivo del entorno del proyecto que tendrá el nombre definido arriba (termina en .yml) y moverlo\n",
    "#de la ubicación del ordenador C:\\Users\\tu_usuario a  la carpeta del proyecto /01_Documentos"
   ]
  },
  {
   "cell_type": "markdown",
   "id": "7d4b447c",
   "metadata": {},
   "source": [
    "## 4. CREAR LOS DATASETS INICIALES"
   ]
  },
  {
   "cell_type": "code",
   "execution_count": null,
   "id": "1d358afe",
   "metadata": {
    "scrolled": false
   },
   "outputs": [],
   "source": [
    "#Crear la conexión a la base de datos\n",
    "con = sa.create_engine('sqlite:///../Datos/airbnb2025.db')\n",
    "\n",
    "#Conseguir la lista de las tablas de 'con'\n",
    "from sqlalchemy import inspect\n",
    "insp = inspect(con)\n",
    "tablas = insp.get_table_names()\n",
    "tablas\n",
    "\n",
    "#Cargar las tablas individualmente\n",
    "listings = pd.read_sql('listings', con)\n",
    "listings_det = pd.read_sql('listings_det', con)\n",
    "\n",
    "#Cargar todas las tablas de 'con' al mismo tiempo\n",
    "for tabla in tablas:\n",
    "    exec(f'{tabla} = pd.read_sql(tabla, con)')\n",
    "\n",
    "#Extraer las dimensiones de todas las tablas de 'con' al mismo tiempo\n",
    "for cada in tablas:\n",
    "    print(cada + ': ' + str(eval(cada).shape))"
   ]
  },
  {
   "cell_type": "markdown",
   "id": "2f0fb26d",
   "metadata": {},
   "source": [
    "Poner los datos originales en la carpeta '/02_Datos/01_Originales'"
   ]
  },
  {
   "cell_type": "markdown",
   "id": "d79369cf",
   "metadata": {},
   "source": [
    "### 4.1. Importar los datos"
   ]
  },
  {
   "cell_type": "markdown",
   "id": "36810911",
   "metadata": {},
   "source": [
    "Sustituir el nombre_fichero_datos."
   ]
  },
  {
   "cell_type": "code",
   "execution_count": 4,
   "id": "e4cda3b6",
   "metadata": {},
   "outputs": [],
   "source": [
    "nombre_fichero_datos = 'airbnb2025.db'\n",
    "ruta_completa = path + '/02_Datos/01_Originales/' + nombre_fichero_datos"
   ]
  },
  {
   "cell_type": "markdown",
   "id": "107e0d0f",
   "metadata": {},
   "source": [
    "Cargar los datos."
   ]
  },
  {
   "cell_type": "code",
   "execution_count": 5,
   "id": "634e51de",
   "metadata": {
    "scrolled": false
   },
   "outputs": [
    {
     "data": {
      "text/plain": [
       "['calendar',\n",
       " 'cat',\n",
       " 'df_preparado',\n",
       " 'listings',\n",
       " 'listings_det',\n",
       " 'neigh',\n",
       " 'num',\n",
       " 'precio_m2',\n",
       " 'target']"
      ]
     },
     "execution_count": 5,
     "metadata": {},
     "output_type": "execute_result"
    }
   ],
   "source": [
    "#Función carga de LOS NOMBRES de todas las tablas de la base de datos\n",
    "import sqlalchemy as sa\n",
    "con = sa.create_engine('sqlite:///' +  ruta_completa)\n",
    "\n",
    "from sqlalchemy import inspect\n",
    "inspector = inspect(con)\n",
    "tablas = inspector.get_table_names()\n",
    "tablas  "
   ]
  },
  {
   "cell_type": "code",
   "execution_count": 6,
   "id": "eb1020ef",
   "metadata": {},
   "outputs": [],
   "source": [
    "#Cargar todas las tablas de 'con' al mismo tiempo\n",
    "for tabla in tablas:\n",
    "    exec(f'{tabla} = pd.read_sql(tabla, con)')"
   ]
  },
  {
   "cell_type": "code",
   "execution_count": 7,
   "id": "56d2c99c",
   "metadata": {},
   "outputs": [
    {
     "data": {
      "text/html": [
       "<div>\n",
       "<style scoped>\n",
       "    .dataframe tbody tr th:only-of-type {\n",
       "        vertical-align: middle;\n",
       "    }\n",
       "\n",
       "    .dataframe tbody tr th {\n",
       "        vertical-align: top;\n",
       "    }\n",
       "\n",
       "    .dataframe thead th {\n",
       "        text-align: right;\n",
       "    }\n",
       "</style>\n",
       "<table border=\"1\" class=\"dataframe\">\n",
       "  <thead>\n",
       "    <tr style=\"text-align: right;\">\n",
       "      <th></th>\n",
       "      <th>index</th>\n",
       "      <th>id</th>\n",
       "      <th>name</th>\n",
       "      <th>host_response_time</th>\n",
       "      <th>host_is_superhost</th>\n",
       "      <th>host_verifications</th>\n",
       "      <th>host_has_profile_pic</th>\n",
       "      <th>host_identity_verified</th>\n",
       "      <th>neighbourhood_cleansed</th>\n",
       "      <th>property_type</th>\n",
       "      <th>...</th>\n",
       "      <th>precio_total</th>\n",
       "      <th>ocupacion</th>\n",
       "      <th>bedrooms_disc</th>\n",
       "      <th>accommodates_disc</th>\n",
       "      <th>beds_disc</th>\n",
       "      <th>number_of_reviews_disc</th>\n",
       "      <th>m2</th>\n",
       "      <th>precio_compra</th>\n",
       "      <th>pdi_sol</th>\n",
       "      <th>pisos_rentables</th>\n",
       "    </tr>\n",
       "  </thead>\n",
       "  <tbody>\n",
       "    <tr>\n",
       "      <th>0</th>\n",
       "      <td>0</td>\n",
       "      <td>21853</td>\n",
       "      <td>Bright and airy room</td>\n",
       "      <td>no response</td>\n",
       "      <td>f</td>\n",
       "      <td>['email', 'phone']</td>\n",
       "      <td>t</td>\n",
       "      <td>t</td>\n",
       "      <td>Cármenes</td>\n",
       "      <td>Private room in rental unit</td>\n",
       "      <td>...</td>\n",
       "      <td>31.00</td>\n",
       "      <td>60</td>\n",
       "      <td>01_Una</td>\n",
       "      <td>0-3</td>\n",
       "      <td>1</td>\n",
       "      <td>5-71</td>\n",
       "      <td>50</td>\n",
       "      <td>110880.00</td>\n",
       "      <td>3.52</td>\n",
       "      <td>1</td>\n",
       "    </tr>\n",
       "    <tr>\n",
       "      <th>1</th>\n",
       "      <td>1</td>\n",
       "      <td>30320</td>\n",
       "      <td>Great Vacational Apartments</td>\n",
       "      <td>no response</td>\n",
       "      <td>f</td>\n",
       "      <td>['email', 'phone']</td>\n",
       "      <td>t</td>\n",
       "      <td>f</td>\n",
       "      <td>Sol</td>\n",
       "      <td>Entire rental unit</td>\n",
       "      <td>...</td>\n",
       "      <td>149.00</td>\n",
       "      <td>100</td>\n",
       "      <td>01_Una</td>\n",
       "      <td>0-3</td>\n",
       "      <td>1</td>\n",
       "      <td>71-1136</td>\n",
       "      <td>50</td>\n",
       "      <td>246800.00</td>\n",
       "      <td>0.23</td>\n",
       "      <td>1</td>\n",
       "    </tr>\n",
       "    <tr>\n",
       "      <th>2</th>\n",
       "      <td>2</td>\n",
       "      <td>30959</td>\n",
       "      <td>Beautiful loft in Madrid Center</td>\n",
       "      <td>no response</td>\n",
       "      <td>f</td>\n",
       "      <td>['email', 'phone']</td>\n",
       "      <td>t</td>\n",
       "      <td>f</td>\n",
       "      <td>Embajadores</td>\n",
       "      <td>Entire loft</td>\n",
       "      <td>...</td>\n",
       "      <td>92.00</td>\n",
       "      <td>100</td>\n",
       "      <td>01_Una</td>\n",
       "      <td>0-3</td>\n",
       "      <td>1</td>\n",
       "      <td>1-4</td>\n",
       "      <td>50</td>\n",
       "      <td>246800.00</td>\n",
       "      <td>0.50</td>\n",
       "      <td>1</td>\n",
       "    </tr>\n",
       "    <tr>\n",
       "      <th>3</th>\n",
       "      <td>3</td>\n",
       "      <td>40916</td>\n",
       "      <td>Holiday Apartment Madrid Center</td>\n",
       "      <td>no response</td>\n",
       "      <td>f</td>\n",
       "      <td>['email', 'phone']</td>\n",
       "      <td>t</td>\n",
       "      <td>f</td>\n",
       "      <td>Universidad</td>\n",
       "      <td>Entire rental unit</td>\n",
       "      <td>...</td>\n",
       "      <td>124.00</td>\n",
       "      <td>100</td>\n",
       "      <td>01_Una</td>\n",
       "      <td>0-3</td>\n",
       "      <td>3</td>\n",
       "      <td>5-71</td>\n",
       "      <td>50</td>\n",
       "      <td>246800.00</td>\n",
       "      <td>0.67</td>\n",
       "      <td>1</td>\n",
       "    </tr>\n",
       "    <tr>\n",
       "      <th>4</th>\n",
       "      <td>4</td>\n",
       "      <td>62423</td>\n",
       "      <td>MAGIC ARTISTIC HOUSE IN THE CENTER OF MADRID</td>\n",
       "      <td>within an hour</td>\n",
       "      <td>f</td>\n",
       "      <td>['email', 'phone']</td>\n",
       "      <td>t</td>\n",
       "      <td>t</td>\n",
       "      <td>Justicia</td>\n",
       "      <td>Private room in rental unit</td>\n",
       "      <td>...</td>\n",
       "      <td>137.62</td>\n",
       "      <td>9</td>\n",
       "      <td>01_Una</td>\n",
       "      <td>4</td>\n",
       "      <td>3</td>\n",
       "      <td>71-1136</td>\n",
       "      <td>50</td>\n",
       "      <td>246800.00</td>\n",
       "      <td>0.62</td>\n",
       "      <td>0</td>\n",
       "    </tr>\n",
       "  </tbody>\n",
       "</table>\n",
       "<p>5 rows × 63 columns</p>\n",
       "</div>"
      ],
      "text/plain": [
       "   index     id                                          name  \\\n",
       "0      0  21853                          Bright and airy room   \n",
       "1      1  30320                   Great Vacational Apartments   \n",
       "2      2  30959               Beautiful loft in Madrid Center   \n",
       "3      3  40916               Holiday Apartment Madrid Center   \n",
       "4      4  62423  MAGIC ARTISTIC HOUSE IN THE CENTER OF MADRID   \n",
       "\n",
       "  host_response_time host_is_superhost  host_verifications  \\\n",
       "0        no response                 f  ['email', 'phone']   \n",
       "1        no response                 f  ['email', 'phone']   \n",
       "2        no response                 f  ['email', 'phone']   \n",
       "3        no response                 f  ['email', 'phone']   \n",
       "4     within an hour                 f  ['email', 'phone']   \n",
       "\n",
       "  host_has_profile_pic host_identity_verified neighbourhood_cleansed  \\\n",
       "0                    t                      t               Cármenes   \n",
       "1                    t                      f                    Sol   \n",
       "2                    t                      f            Embajadores   \n",
       "3                    t                      f            Universidad   \n",
       "4                    t                      t               Justicia   \n",
       "\n",
       "                 property_type  ... precio_total ocupacion bedrooms_disc  \\\n",
       "0  Private room in rental unit  ...        31.00        60        01_Una   \n",
       "1           Entire rental unit  ...       149.00       100        01_Una   \n",
       "2                  Entire loft  ...        92.00       100        01_Una   \n",
       "3           Entire rental unit  ...       124.00       100        01_Una   \n",
       "4  Private room in rental unit  ...       137.62         9        01_Una   \n",
       "\n",
       "  accommodates_disc beds_disc number_of_reviews_disc  m2 precio_compra  \\\n",
       "0               0-3         1                   5-71  50     110880.00   \n",
       "1               0-3         1                71-1136  50     246800.00   \n",
       "2               0-3         1                    1-4  50     246800.00   \n",
       "3               0-3         3                   5-71  50     246800.00   \n",
       "4                 4         3                71-1136  50     246800.00   \n",
       "\n",
       "   pdi_sol  pisos_rentables  \n",
       "0     3.52                1  \n",
       "1     0.23                1  \n",
       "2     0.50                1  \n",
       "3     0.67                1  \n",
       "4     0.62                0  \n",
       "\n",
       "[5 rows x 63 columns]"
      ]
     },
     "execution_count": 7,
     "metadata": {},
     "output_type": "execute_result"
    }
   ],
   "source": [
    "datos = df_preparado.copy()\n",
    "datos.head()"
   ]
  },
  {
   "cell_type": "code",
   "execution_count": 8,
   "id": "84db02bf",
   "metadata": {},
   "outputs": [
    {
     "data": {
      "text/html": [
       "<div>\n",
       "<style scoped>\n",
       "    .dataframe tbody tr th:only-of-type {\n",
       "        vertical-align: middle;\n",
       "    }\n",
       "\n",
       "    .dataframe tbody tr th {\n",
       "        vertical-align: top;\n",
       "    }\n",
       "\n",
       "    .dataframe thead th {\n",
       "        text-align: right;\n",
       "    }\n",
       "</style>\n",
       "<table border=\"1\" class=\"dataframe\">\n",
       "  <thead>\n",
       "    <tr style=\"text-align: right;\">\n",
       "      <th></th>\n",
       "      <th>index</th>\n",
       "      <th>id</th>\n",
       "      <th>name</th>\n",
       "      <th>host_response_time</th>\n",
       "      <th>host_is_superhost</th>\n",
       "      <th>host_verifications</th>\n",
       "      <th>host_has_profile_pic</th>\n",
       "      <th>host_identity_verified</th>\n",
       "      <th>property_type</th>\n",
       "      <th>room_type</th>\n",
       "      <th>...</th>\n",
       "      <th>calculated_host_listings_count_shared_rooms</th>\n",
       "      <th>reviews_per_month</th>\n",
       "      <th>precio_m2</th>\n",
       "      <th>bedrooms_disc</th>\n",
       "      <th>accommodates_disc</th>\n",
       "      <th>beds_disc</th>\n",
       "      <th>number_of_reviews_disc</th>\n",
       "      <th>m2</th>\n",
       "      <th>pdi_sol</th>\n",
       "      <th>pisos_rentables</th>\n",
       "    </tr>\n",
       "  </thead>\n",
       "  <tbody>\n",
       "    <tr>\n",
       "      <th>0</th>\n",
       "      <td>0</td>\n",
       "      <td>21853</td>\n",
       "      <td>Bright and airy room</td>\n",
       "      <td>no response</td>\n",
       "      <td>f</td>\n",
       "      <td>['email', 'phone']</td>\n",
       "      <td>t</td>\n",
       "      <td>t</td>\n",
       "      <td>Private room in rental unit</td>\n",
       "      <td>Private room</td>\n",
       "      <td>...</td>\n",
       "      <td>0</td>\n",
       "      <td>0.27</td>\n",
       "      <td>2772</td>\n",
       "      <td>01_Una</td>\n",
       "      <td>0-3</td>\n",
       "      <td>1</td>\n",
       "      <td>5-71</td>\n",
       "      <td>50</td>\n",
       "      <td>3.52</td>\n",
       "      <td>1</td>\n",
       "    </tr>\n",
       "    <tr>\n",
       "      <th>1</th>\n",
       "      <td>1</td>\n",
       "      <td>30320</td>\n",
       "      <td>Great Vacational Apartments</td>\n",
       "      <td>no response</td>\n",
       "      <td>f</td>\n",
       "      <td>['email', 'phone']</td>\n",
       "      <td>t</td>\n",
       "      <td>f</td>\n",
       "      <td>Entire rental unit</td>\n",
       "      <td>Entire home/apt</td>\n",
       "      <td>...</td>\n",
       "      <td>0</td>\n",
       "      <td>0.98</td>\n",
       "      <td>6170</td>\n",
       "      <td>01_Una</td>\n",
       "      <td>0-3</td>\n",
       "      <td>1</td>\n",
       "      <td>71-1136</td>\n",
       "      <td>50</td>\n",
       "      <td>0.23</td>\n",
       "      <td>1</td>\n",
       "    </tr>\n",
       "    <tr>\n",
       "      <th>2</th>\n",
       "      <td>2</td>\n",
       "      <td>30959</td>\n",
       "      <td>Beautiful loft in Madrid Center</td>\n",
       "      <td>no response</td>\n",
       "      <td>f</td>\n",
       "      <td>['email', 'phone']</td>\n",
       "      <td>t</td>\n",
       "      <td>f</td>\n",
       "      <td>Entire loft</td>\n",
       "      <td>Entire home/apt</td>\n",
       "      <td>...</td>\n",
       "      <td>0</td>\n",
       "      <td>0.07</td>\n",
       "      <td>6170</td>\n",
       "      <td>01_Una</td>\n",
       "      <td>0-3</td>\n",
       "      <td>1</td>\n",
       "      <td>1-4</td>\n",
       "      <td>50</td>\n",
       "      <td>0.50</td>\n",
       "      <td>1</td>\n",
       "    </tr>\n",
       "    <tr>\n",
       "      <th>3</th>\n",
       "      <td>3</td>\n",
       "      <td>40916</td>\n",
       "      <td>Holiday Apartment Madrid Center</td>\n",
       "      <td>no response</td>\n",
       "      <td>f</td>\n",
       "      <td>['email', 'phone']</td>\n",
       "      <td>t</td>\n",
       "      <td>f</td>\n",
       "      <td>Entire rental unit</td>\n",
       "      <td>Entire home/apt</td>\n",
       "      <td>...</td>\n",
       "      <td>0</td>\n",
       "      <td>0.29</td>\n",
       "      <td>6170</td>\n",
       "      <td>01_Una</td>\n",
       "      <td>0-3</td>\n",
       "      <td>3</td>\n",
       "      <td>5-71</td>\n",
       "      <td>50</td>\n",
       "      <td>0.67</td>\n",
       "      <td>1</td>\n",
       "    </tr>\n",
       "    <tr>\n",
       "      <th>4</th>\n",
       "      <td>4</td>\n",
       "      <td>62423</td>\n",
       "      <td>MAGIC ARTISTIC HOUSE IN THE CENTER OF MADRID</td>\n",
       "      <td>within an hour</td>\n",
       "      <td>f</td>\n",
       "      <td>['email', 'phone']</td>\n",
       "      <td>t</td>\n",
       "      <td>t</td>\n",
       "      <td>Private room in rental unit</td>\n",
       "      <td>Private room</td>\n",
       "      <td>...</td>\n",
       "      <td>0</td>\n",
       "      <td>2.73</td>\n",
       "      <td>6170</td>\n",
       "      <td>01_Una</td>\n",
       "      <td>4</td>\n",
       "      <td>3</td>\n",
       "      <td>71-1136</td>\n",
       "      <td>50</td>\n",
       "      <td>0.62</td>\n",
       "      <td>0</td>\n",
       "    </tr>\n",
       "  </tbody>\n",
       "</table>\n",
       "<p>5 rows × 59 columns</p>\n",
       "</div>"
      ],
      "text/plain": [
       "   index     id                                          name  \\\n",
       "0      0  21853                          Bright and airy room   \n",
       "1      1  30320                   Great Vacational Apartments   \n",
       "2      2  30959               Beautiful loft in Madrid Center   \n",
       "3      3  40916               Holiday Apartment Madrid Center   \n",
       "4      4  62423  MAGIC ARTISTIC HOUSE IN THE CENTER OF MADRID   \n",
       "\n",
       "  host_response_time host_is_superhost  host_verifications  \\\n",
       "0        no response                 f  ['email', 'phone']   \n",
       "1        no response                 f  ['email', 'phone']   \n",
       "2        no response                 f  ['email', 'phone']   \n",
       "3        no response                 f  ['email', 'phone']   \n",
       "4     within an hour                 f  ['email', 'phone']   \n",
       "\n",
       "  host_has_profile_pic host_identity_verified                property_type  \\\n",
       "0                    t                      t  Private room in rental unit   \n",
       "1                    t                      f           Entire rental unit   \n",
       "2                    t                      f                  Entire loft   \n",
       "3                    t                      f           Entire rental unit   \n",
       "4                    t                      t  Private room in rental unit   \n",
       "\n",
       "         room_type  ... calculated_host_listings_count_shared_rooms  \\\n",
       "0     Private room  ...                                           0   \n",
       "1  Entire home/apt  ...                                           0   \n",
       "2  Entire home/apt  ...                                           0   \n",
       "3  Entire home/apt  ...                                           0   \n",
       "4     Private room  ...                                           0   \n",
       "\n",
       "  reviews_per_month precio_m2 bedrooms_disc accommodates_disc  beds_disc  \\\n",
       "0              0.27      2772        01_Una               0-3          1   \n",
       "1              0.98      6170        01_Una               0-3          1   \n",
       "2              0.07      6170        01_Una               0-3          1   \n",
       "3              0.29      6170        01_Una               0-3          3   \n",
       "4              2.73      6170        01_Una                 4          3   \n",
       "\n",
       "  number_of_reviews_disc  m2  pdi_sol  pisos_rentables  \n",
       "0                   5-71  50     3.52                1  \n",
       "1                71-1136  50     0.23                1  \n",
       "2                    1-4  50     0.50                1  \n",
       "3                   5-71  50     0.67                1  \n",
       "4                71-1136  50     0.62                0  \n",
       "\n",
       "[5 rows x 59 columns]"
      ]
     },
     "execution_count": 8,
     "metadata": {},
     "output_type": "execute_result"
    }
   ],
   "source": [
    "#Vamos a eliminar las variables que hemos usado para generar la target ya que hemos terminado el proyecto de Discovery\n",
    "\n",
    "#Tras pasar por la fase de transformación de datos del proyecto de prediction, vuelvo a eliminar 'neighbourhood_cleansed'\n",
    "#porque genera mucho ruido en el avance y no aporta gran información por encima de 'neighbourhood_group'\n",
    "datos = datos.drop(columns=['precio_total','ocupacion','precio_compra','neighbourhood_cleansed'])\n",
    "datos.head()"
   ]
  },
  {
   "cell_type": "markdown",
   "id": "add73dc5",
   "metadata": {},
   "source": [
    "### 4.2. Extraer y reservar el dataset de validación"
   ]
  },
  {
   "cell_type": "code",
   "execution_count": 9,
   "id": "eefe76fb",
   "metadata": {},
   "outputs": [],
   "source": [
    "val= datos.sample(frac = 0.3)"
   ]
  },
  {
   "cell_type": "code",
   "execution_count": 10,
   "id": "216156be",
   "metadata": {},
   "outputs": [],
   "source": [
    "nombre_fichero_validacion = 'validacion.csv'\n",
    "ruta_completa = path + '/02_Datos/02_Validacion/' + nombre_fichero_validacion\n",
    "val.to_csv(ruta_completa)"
   ]
  },
  {
   "cell_type": "markdown",
   "id": "88bcd0b4",
   "metadata": {},
   "source": [
    "### 4.3. Extraer y guardar el dataset de trabajo"
   ]
  },
  {
   "cell_type": "code",
   "execution_count": 11,
   "id": "68ed1338",
   "metadata": {},
   "outputs": [],
   "source": [
    "trabajo = datos.loc[~datos.index.isin(val.index)]"
   ]
  },
  {
   "cell_type": "code",
   "execution_count": 12,
   "id": "76d12e7c",
   "metadata": {},
   "outputs": [],
   "source": [
    "nombre_fichero_trabajo = 'trabajo.csv'\n",
    "ruta_completa = path + '/02_Datos/03_Trabajo/' + nombre_fichero_trabajo\n",
    "trabajo.to_csv(ruta_completa)"
   ]
  },
  {
   "cell_type": "code",
   "execution_count": 13,
   "id": "54829214",
   "metadata": {},
   "outputs": [
    {
     "data": {
      "text/plain": [
       "(7774, 59)"
      ]
     },
     "execution_count": 13,
     "metadata": {},
     "output_type": "execute_result"
    }
   ],
   "source": [
    "val.shape"
   ]
  },
  {
   "cell_type": "code",
   "execution_count": 14,
   "id": "7f76ab6b",
   "metadata": {},
   "outputs": [
    {
     "data": {
      "text/plain": [
       "(18139, 59)"
      ]
     },
     "execution_count": 14,
     "metadata": {},
     "output_type": "execute_result"
    }
   ],
   "source": [
    "trabajo.shape"
   ]
  },
  {
   "cell_type": "markdown",
   "id": "c39deca7",
   "metadata": {},
   "source": [
    "### 4.4. Extraer y guardar una muestra (opcional)"
   ]
  },
  {
   "cell_type": "markdown",
   "id": "0b2db467",
   "metadata": {},
   "source": [
    "Actualizar el tamaño de la muestra."
   ]
  },
  {
   "cell_type": "code",
   "execution_count": 15,
   "id": "bf022abe",
   "metadata": {},
   "outputs": [],
   "source": [
    "#muestra= trabajo.sample(n = 20000)"
   ]
  },
  {
   "cell_type": "code",
   "execution_count": 16,
   "id": "48c3425e",
   "metadata": {},
   "outputs": [],
   "source": [
    "#nombre_fichero_muestra = 'muestra.csv'\n",
    "#ruta_completa = path + '/02_Datos/03_Trabajo/' + nombre_fichero_muestra\n",
    "#muestra.to_csv(ruta_completa)"
   ]
  }
 ],
 "metadata": {
  "kernelspec": {
   "display_name": "Python 3 (ipykernel)",
   "language": "python",
   "name": "python3"
  },
  "language_info": {
   "codemirror_mode": {
    "name": "ipython",
    "version": 3
   },
   "file_extension": ".py",
   "mimetype": "text/x-python",
   "name": "python",
   "nbconvert_exporter": "python",
   "pygments_lexer": "ipython3",
   "version": "3.11.11"
  },
  "toc": {
   "base_numbering": 1,
   "nav_menu": {},
   "number_sections": true,
   "sideBar": true,
   "skip_h1_title": false,
   "title_cell": "Table of Contents",
   "title_sidebar": "Contents",
   "toc_cell": false,
   "toc_position": {
    "height": "calc(100% - 180px)",
    "left": "10px",
    "top": "150px",
    "width": "208.9px"
   },
   "toc_section_display": true,
   "toc_window_display": false
  },
  "varInspector": {
   "cols": {
    "lenName": 16,
    "lenType": 16,
    "lenVar": 40
   },
   "kernels_config": {
    "python": {
     "delete_cmd_postfix": "",
     "delete_cmd_prefix": "del ",
     "library": "var_list.py",
     "varRefreshCmd": "print(var_dic_list())"
    },
    "r": {
     "delete_cmd_postfix": ") ",
     "delete_cmd_prefix": "rm(",
     "library": "var_list.r",
     "varRefreshCmd": "cat(var_dic_list()) "
    }
   },
   "types_to_exclude": [
    "module",
    "function",
    "builtin_function_or_method",
    "instance",
    "_Feature"
   ],
   "window_display": false
  }
 },
 "nbformat": 4,
 "nbformat_minor": 5
}
