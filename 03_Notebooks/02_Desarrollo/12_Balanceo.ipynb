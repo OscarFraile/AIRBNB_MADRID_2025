{
 "cells": [
  {
   "cell_type": "markdown",
   "id": "d31dea65",
   "metadata": {},
   "source": [
    "# PLANTILLA BALANCEO"
   ]
  },
  {
   "cell_type": "markdown",
   "id": "swiss-fault",
   "metadata": {},
   "source": [
    "## 1. IMPORTAR PAQUETES"
   ]
  },
  {
   "cell_type": "code",
   "execution_count": 46,
   "id": "adjacent-toddler",
   "metadata": {},
   "outputs": [],
   "source": [
    "import numpy as np\n",
    "import pandas as pd\n",
    "import matplotlib.pyplot as plt\n",
    "%matplotlib inline\n",
    "from imblearn.under_sampling import RandomUnderSampler\n",
    "from imblearn.over_sampling import RandomOverSampler\n",
    "from imblearn.under_sampling import TomekLinks\n",
    "from imblearn.over_sampling import SMOTE\n",
    "from imblearn.combine import SMOTETomek\n",
    "\n",
    "from sklearn.model_selection import train_test_split\n",
    "from sklearn.linear_model import LogisticRegression\n",
    "from sklearn.metrics import roc_auc_score\n",
    "#Automcompletar rápido\n",
    "%config IPCompleter.greedy=True"
   ]
  },
  {
   "cell_type": "markdown",
   "id": "graduate-compensation",
   "metadata": {},
   "source": [
    "## 2. IMPORTAR LOS DATOS"
   ]
  },
  {
   "cell_type": "markdown",
   "id": "3a5b94ef",
   "metadata": {},
   "source": [
    "Sustituir la ruta del proyecto."
   ]
  },
  {
   "cell_type": "code",
   "execution_count": 47,
   "id": "f9d2de58",
   "metadata": {},
   "outputs": [],
   "source": [
    "ruta_proyecto = 'C:/Users/Oscar/OneDrive - FM4/Escritorio/Python Data Mastery/EstructuraDirectorio/03_MACHINE_LEARNING/08_CASOS/007_AIRBNB'"
   ]
  },
  {
   "cell_type": "markdown",
   "id": "c3363765",
   "metadata": {},
   "source": [
    "Nombres de los ficheros de datos."
   ]
  },
  {
   "cell_type": "code",
   "execution_count": 48,
   "id": "a9e2e04a",
   "metadata": {},
   "outputs": [],
   "source": [
    "nombre_x = 'x_preseleccionado.pickle'\n",
    "nombre_y = 'y_preseleccionado.pickle'"
   ]
  },
  {
   "cell_type": "markdown",
   "id": "b9825018",
   "metadata": {},
   "source": [
    "Cargar los datos."
   ]
  },
  {
   "cell_type": "code",
   "execution_count": 49,
   "id": "cab6ebcd",
   "metadata": {},
   "outputs": [],
   "source": [
    "x = pd.read_pickle(ruta_proyecto + '/02_Datos/03_Trabajo/' + nombre_x)\n",
    "y = pd.read_pickle(ruta_proyecto + '/02_Datos/03_Trabajo/' + nombre_y)"
   ]
  },
  {
   "cell_type": "markdown",
   "id": "9790d322",
   "metadata": {},
   "source": [
    "## 3. BALANCEO"
   ]
  },
  {
   "cell_type": "markdown",
   "id": "19b25807",
   "metadata": {},
   "source": [
    "Objetivo: Probar si el balanceo mejora la predicción en el dataset y/o se puede trabajar con un dataset mas pequeño que reduzca el esfuerzo computacional\n",
    "\n",
    "Para decidir sobre el balanceo, aplicamos los diferentes métodos o no balanceo y usamos LogisticRegression (Después decidiremos el modelo para predecir)"
   ]
  },
  {
   "cell_type": "markdown",
   "id": "f1fa5201",
   "metadata": {},
   "source": [
    "### 3.1. Sin balanceo"
   ]
  },
  {
   "cell_type": "markdown",
   "id": "930f685f",
   "metadata": {},
   "source": [
    "#### 3.1.1. Crear train y test"
   ]
  },
  {
   "cell_type": "code",
   "execution_count": 50,
   "id": "84b6fd41",
   "metadata": {},
   "outputs": [],
   "source": [
    "train_x,test_x,train_y,test_y = train_test_split(x,y,test_size=0.3)\n",
    "test_y.shape"
   ]
  },
  {
   "cell_type": "markdown",
   "id": "e915c866",
   "metadata": {},
   "source": [
    "#### 3.1.2. Instanciar el modelo"
   ]
  },
  {
   "cell_type": "code",
   "execution_count": 51,
   "id": "39073022",
   "metadata": {},
   "outputs": [],
   "source": [
    "rl_sin_balanceo = LogisticRegression(n_jobs = -1)"
   ]
  },
  {
   "cell_type": "markdown",
   "id": "ce4b603a",
   "metadata": {},
   "source": [
    "#### 3.1.3. Entrenar"
   ]
  },
  {
   "cell_type": "code",
   "execution_count": 52,
   "id": "1e0348db",
   "metadata": {},
   "outputs": [],
   "source": [
    "rl_sin_balanceo.fit(train_x,train_y)"
   ]
  },
  {
   "cell_type": "markdown",
   "id": "4b94b921",
   "metadata": {},
   "source": [
    "####  3.1.4. Aplicar"
   ]
  },
  {
   "cell_type": "code",
   "execution_count": 53,
   "id": "863933d9",
   "metadata": {},
   "outputs": [],
   "source": [
    "pred_rl_sin_balanceo = rl_sin_balanceo.predict_proba(test_x)[:,1]\n",
    "pred_rl_sin_balanceo.shape"
   ]
  },
  {
   "cell_type": "markdown",
   "id": "260baa98",
   "metadata": {},
   "source": [
    "#### 3.1.5. Evaluar"
   ]
  },
  {
   "cell_type": "code",
   "execution_count": 54,
   "id": "aa3a10d5",
   "metadata": {},
   "outputs": [],
   "source": [
    "roc_rl_sin_balanceo = roc_auc_score(test_y, pred_rl_sin_balanceo)\n",
    "roc_rl_sin_balanceo"
   ]
  },
  {
   "cell_type": "markdown",
   "id": "fee22dd5",
   "metadata": {},
   "source": [
    "### 3.2. Crear dataset balanceado mediante undersampling"
   ]
  },
  {
   "cell_type": "markdown",
   "id": "c54c48e7",
   "metadata": {},
   "source": [
    "#### 3.2.1. Instanciar el undersampler"
   ]
  },
  {
   "cell_type": "code",
   "execution_count": 55,
   "id": "7216c083",
   "metadata": {},
   "outputs": [],
   "source": [
    "rus = RandomUnderSampler(sampling_strategy= 1)"
   ]
  },
  {
   "cell_type": "markdown",
   "id": "904c4b70",
   "metadata": {},
   "source": [
    "#### 3.2.2. Entrenar y aplicar el undersampler"
   ]
  },
  {
   "cell_type": "code",
   "execution_count": 56,
   "id": "68ab4ec0",
   "metadata": {},
   "outputs": [],
   "source": [
    "x_rus, y_rus = rus.fit_resample(x,y)"
   ]
  },
  {
   "cell_type": "markdown",
   "id": "57320f17",
   "metadata": {},
   "source": [
    "#### 3.2.3. Crear train y test"
   ]
  },
  {
   "cell_type": "code",
   "execution_count": 57,
   "id": "ea3dc85f",
   "metadata": {},
   "outputs": [],
   "source": [
    "train_x_rus,test_x_rus,train_y_rus,test_y_rus = train_test_split(x_rus,y_rus,test_size=0.3)"
   ]
  },
  {
   "cell_type": "markdown",
   "id": "fb435c9e",
   "metadata": {},
   "source": [
    "#### 3.2.4. Instanciar el modelo"
   ]
  },
  {
   "cell_type": "code",
   "execution_count": 58,
   "id": "9f285f5e",
   "metadata": {},
   "outputs": [],
   "source": [
    "rl_rus = LogisticRegression(n_jobs = -1)"
   ]
  },
  {
   "cell_type": "markdown",
   "id": "7e0344f7",
   "metadata": {},
   "source": [
    "#### 3.2.5. Entrenar"
   ]
  },
  {
   "cell_type": "code",
   "execution_count": 59,
   "id": "16e20a05",
   "metadata": {},
   "outputs": [],
   "source": [
    "rl_rus.fit(train_x_rus,train_y_rus)"
   ]
  },
  {
   "cell_type": "markdown",
   "id": "8cce89bb",
   "metadata": {},
   "source": [
    "#### 3.2.6.  Aplicar"
   ]
  },
  {
   "cell_type": "code",
   "execution_count": 60,
   "id": "9ae5c698",
   "metadata": {},
   "outputs": [],
   "source": [
    "pred_rl_rus = rl_rus.predict_proba(test_x)[:,1]"
   ]
  },
  {
   "cell_type": "markdown",
   "id": "ff3f6024",
   "metadata": {},
   "source": [
    "#### 3.2.7. Evaluar"
   ]
  },
  {
   "cell_type": "code",
   "execution_count": 61,
   "id": "ba53f521",
   "metadata": {},
   "outputs": [],
   "source": [
    "roc_rl_rus = roc_auc_score(test_y, pred_rl_rus)\n",
    "roc_rl_rus"
   ]
  },
  {
   "cell_type": "markdown",
   "id": "c540e3d9",
   "metadata": {},
   "source": [
    "### 3.3. Crear dataset balanceado mediante oversampling"
   ]
  },
  {
   "cell_type": "markdown",
   "id": "83fee5ee",
   "metadata": {},
   "source": [
    "#### 3.3.1. Instanciar el oversampler"
   ]
  },
  {
   "cell_type": "code",
   "execution_count": 62,
   "id": "90fcd19b",
   "metadata": {},
   "outputs": [],
   "source": [
    "ros = RandomOverSampler(sampling_strategy= 1)"
   ]
  },
  {
   "cell_type": "markdown",
   "id": "780ca4b6",
   "metadata": {},
   "source": [
    "#### 3.3.2. Entrenar y aplicar el oversampler"
   ]
  },
  {
   "cell_type": "code",
   "execution_count": 63,
   "id": "3ff9f74a",
   "metadata": {},
   "outputs": [],
   "source": [
    "x_ros, y_ros = ros.fit_resample(x,y)"
   ]
  },
  {
   "cell_type": "markdown",
   "id": "db337f9d",
   "metadata": {},
   "source": [
    "#### 3.3.3. Crear train y test"
   ]
  },
  {
   "cell_type": "code",
   "execution_count": 64,
   "id": "472493ec",
   "metadata": {},
   "outputs": [],
   "source": [
    "train_x_ros,test_x_ros,train_y_ros,test_y_ros = train_test_split(x_ros,y_ros,test_size=0.3)"
   ]
  },
  {
   "cell_type": "markdown",
   "id": "696bae6c",
   "metadata": {},
   "source": [
    "#### 3.3.4. Instanciar el modelo"
   ]
  },
  {
   "cell_type": "code",
   "execution_count": 65,
   "id": "cf25adb0",
   "metadata": {},
   "outputs": [],
   "source": [
    "rl_ros = LogisticRegression(n_jobs = -1)"
   ]
  },
  {
   "cell_type": "markdown",
   "id": "aed614cd",
   "metadata": {},
   "source": [
    "#### 3.3.5. Entrenar"
   ]
  },
  {
   "cell_type": "code",
   "execution_count": 66,
   "id": "0f5c6f3e",
   "metadata": {},
   "outputs": [],
   "source": [
    "rl_ros.fit(train_x_ros,train_y_ros)"
   ]
  },
  {
   "cell_type": "markdown",
   "id": "f0ca91ad",
   "metadata": {},
   "source": [
    "#### 3.3.6. Aplicar"
   ]
  },
  {
   "cell_type": "code",
   "execution_count": 67,
   "id": "d171a92d",
   "metadata": {},
   "outputs": [],
   "source": [
    "pred_rl_ros = rl_ros.predict_proba(test_x)[:,1]"
   ]
  },
  {
   "cell_type": "markdown",
   "id": "de9edbaf",
   "metadata": {},
   "source": [
    "#### 3.3.7. Evaluar"
   ]
  },
  {
   "cell_type": "code",
   "execution_count": 68,
   "id": "29380e9e",
   "metadata": {},
   "outputs": [],
   "source": [
    "roc_rl_ros = roc_auc_score(test_y, pred_rl_ros)\n",
    "roc_rl_ros"
   ]
  },
  {
   "cell_type": "markdown",
   "id": "f0c6fe2a",
   "metadata": {},
   "source": [
    "### 3.4. Crear dataset balanceado mediante SMOTE-Tomek"
   ]
  },
  {
   "cell_type": "markdown",
   "id": "39c44bf5",
   "metadata": {},
   "source": [
    "#### 3.4.1. Instanciar un Tomek y un SMOTE"
   ]
  },
  {
   "cell_type": "code",
   "execution_count": 69,
   "id": "07fe8365",
   "metadata": {},
   "outputs": [],
   "source": [
    "tom = TomekLinks()\n",
    "smo = SMOTE(sampling_strategy = 1)"
   ]
  },
  {
   "cell_type": "markdown",
   "id": "ea48084f",
   "metadata": {},
   "source": [
    "#### 3.4.2. Instanciar el SMOTE-Tomek"
   ]
  },
  {
   "cell_type": "code",
   "execution_count": 70,
   "id": "f025a8ca",
   "metadata": {},
   "outputs": [],
   "source": [
    "sto = SMOTETomek(sampling_strategy = 1, \n",
    "                 smote = smo,\n",
    "                 tomek = tom)"
   ]
  },
  {
   "cell_type": "markdown",
   "id": "b9092cad",
   "metadata": {},
   "source": [
    "#### 3.4.3. Entrenar y aplicar el SMOTE-Tomek"
   ]
  },
  {
   "cell_type": "code",
   "execution_count": 71,
   "id": "02886423",
   "metadata": {},
   "outputs": [],
   "source": [
    "x_sto, y_sto = sto.fit_resample(x,y)"
   ]
  },
  {
   "cell_type": "markdown",
   "id": "75cffb40",
   "metadata": {},
   "source": [
    "#### 3.4.4. Crear train y test"
   ]
  },
  {
   "cell_type": "code",
   "execution_count": 72,
   "id": "ba957ceb",
   "metadata": {},
   "outputs": [],
   "source": [
    "train_x_sto,test_x_sto,train_y_sto,test_y_sto = train_test_split(x_sto,y_sto,test_size=0.3)"
   ]
  },
  {
   "cell_type": "markdown",
   "id": "ab121c20",
   "metadata": {},
   "source": [
    "#### 3.4.5. Instanciar el modelo"
   ]
  },
  {
   "cell_type": "code",
   "execution_count": 73,
   "id": "fd476981",
   "metadata": {},
   "outputs": [],
   "source": [
    "rl_sto = LogisticRegression(n_jobs = -1)"
   ]
  },
  {
   "cell_type": "markdown",
   "id": "b2473ca6",
   "metadata": {},
   "source": [
    "#### 3.4.6. Entrenar"
   ]
  },
  {
   "cell_type": "code",
   "execution_count": 74,
   "id": "ba03d854",
   "metadata": {},
   "outputs": [],
   "source": [
    "rl_sto.fit(train_x_sto,train_y_sto)"
   ]
  },
  {
   "cell_type": "markdown",
   "id": "81d113ea",
   "metadata": {},
   "source": [
    "#### 3.4.7. Aplicar"
   ]
  },
  {
   "cell_type": "code",
   "execution_count": 75,
   "id": "685d603c",
   "metadata": {},
   "outputs": [],
   "source": [
    "pred_rl_sto = rl_sto.predict_proba(test_x)[:,1]"
   ]
  },
  {
   "cell_type": "markdown",
   "id": "e39a2d5d",
   "metadata": {},
   "source": [
    "#### 3.4.8. Evaluar"
   ]
  },
  {
   "cell_type": "code",
   "execution_count": 76,
   "id": "ad4f8660",
   "metadata": {},
   "outputs": [],
   "source": [
    "roc_rl_sto = roc_auc_score(test_y, pred_rl_sto)\n",
    "roc_rl_sto"
   ]
  },
  {
   "cell_type": "markdown",
   "id": "2890b518",
   "metadata": {},
   "source": [
    "### 3.5. Penalización por peso en el modelo"
   ]
  },
  {
   "cell_type": "markdown",
   "id": "83449ae9",
   "metadata": {},
   "source": [
    "#### 3.5.1. Crear train y test"
   ]
  },
  {
   "cell_type": "code",
   "execution_count": 77,
   "id": "ccbd6f34",
   "metadata": {},
   "outputs": [],
   "source": [
    "#Se cogen los mismos grupos porque en este caso se van a balancear pero para la evaluación es sobre los mismos grupos\n",
    "train_x,test_x,train_y,test_y = train_test_split(x,y,test_size=0.3)"
   ]
  },
  {
   "cell_type": "markdown",
   "id": "17b85d5e",
   "metadata": {},
   "source": [
    "#### 3.5.2. Instanciar el modelo"
   ]
  },
  {
   "cell_type": "code",
   "execution_count": 78,
   "id": "d0137c7b",
   "metadata": {},
   "outputs": [],
   "source": [
    "roc_rl_pes = LogisticRegression(n_jobs = -1,class_weight = 'balanced')"
   ]
  },
  {
   "cell_type": "markdown",
   "id": "ea88d5ef",
   "metadata": {},
   "source": [
    "#### 3.5.3. Entrenar"
   ]
  },
  {
   "cell_type": "code",
   "execution_count": 79,
   "id": "cc54ebbb",
   "metadata": {},
   "outputs": [],
   "source": [
    "roc_rl_pes.fit(train_x,train_y)"
   ]
  },
  {
   "cell_type": "markdown",
   "id": "fd6c5140",
   "metadata": {},
   "source": [
    "####  3.5.4. Aplicar"
   ]
  },
  {
   "cell_type": "code",
   "execution_count": 80,
   "id": "22e1a618",
   "metadata": {},
   "outputs": [],
   "source": [
    "pred_rl_pes = roc_rl_pes.predict_proba(test_x)[:,1]"
   ]
  },
  {
   "cell_type": "markdown",
   "id": "eb57bed7",
   "metadata": {},
   "source": [
    "#### 3.5.5. Evaluar"
   ]
  },
  {
   "cell_type": "code",
   "execution_count": 81,
   "id": "19042e29",
   "metadata": {
    "scrolled": false
   },
   "outputs": [],
   "source": [
    "roc_rl_pes = roc_auc_score(test_y, pred_rl_pes)\n",
    "roc_rl_pes"
   ]
  },
  {
   "cell_type": "markdown",
   "id": "ec4999bc",
   "metadata": {},
   "source": [
    "## Evaluación de los resultados del balanceo"
   ]
  },
  {
   "cell_type": "code",
   "execution_count": 82,
   "id": "9ad4813d",
   "metadata": {},
   "outputs": [],
   "source": [
    "#Esta función se usa para poder comparar la capacidad de predicción de un modelo (Métrica AUC) sobre un dataset sin balancear\n",
    "#y balanceado con diferentes métodos y tambien podemos ver la variación de las métricas (Recall/Precision) según el umbral \n",
    "#que le marquemos \n",
    "'''\n",
    "1º. Hacer todo el proceso de predicción sin balancear el dataset para tener \n",
    "un punto de comparación con el dataset balanceado\n",
    "2º. Hacer todos los métodos de balanceo que incluyamos en la tupla\n",
    "\n",
    "Despues:\n",
    "'''\n",
    "#Definimos el umbral que aceptaremos\n",
    "umbral = 0.2\n",
    "\n",
    "# Calcular AUC para cada método\n",
    "auc_sin_balanceo = roc_auc_score(test_y, pred_rl_sin_balanceo)\n",
    "auc_rus = roc_auc_score(test_y, pred_rl_rus)\n",
    "auc_ros = roc_auc_score(test_y, pred_rl_ros)\n",
    "auc_sto = roc_auc_score(test_y, pred_rl_sto)\n",
    "auc_pes = roc_auc_score(test_y, pred_rl_pes)\n",
    "\n",
    "#Generamos una lista de tuplas para contener la información\n",
    "resultados_por_metodo = [(('Sin balanceo', test_y, np.where(pred_rl_sin_balanceo > umbral,1,0)),roc_rl_sin_balanceo),\n",
    "             (('Random Under Sampling',test_y,np.where(pred_rl_rus > umbral,1,0)),roc_rl_rus),\n",
    "             (('Random Over Sampling',test_y,np.where(pred_rl_ros > umbral,1,0)),roc_rl_ros),\n",
    "             (('SMOTE - Tomek',test_y,np.where(pred_rl_sto > umbral,1,0)),roc_rl_sto),\n",
    "             (('Penalizacion peso',test_y,np.where(pred_rl_pes > umbral,1,0)),roc_rl_pes)]\n",
    "\n",
    "#Ahora vamos a crear una función que nos devuelva toda la info que queremos.\n",
    "from sklearn.metrics import confusion_matrix\n",
    "\n",
    "# Definir la función para calcular métricas\n",
    "def calcular_metricas(tupla, roc):\n",
    "    \n",
    "    #TUPLE UNPACKING\n",
    "    metodo, real, predicho = tupla\n",
    "\n",
    "    # Calculamos la matriz de confusión\n",
    "    conf = confusion_matrix(real, predicho)\n",
    "    tn, fp, fn, tp = conf.ravel()\n",
    "    total_casos = len(real)  # Usar len(real) en lugar de y.shape[0]\n",
    "\n",
    "    # Calcular métricas evitando divisiones por 0\n",
    "    accuracy = (tn + tp) / total_casos\n",
    "    precision = tp / (tp + fp) if (tp + fp) > 0 else 0\n",
    "    recall = tp / (tp + fn) if (tp + fn) > 0 else 0\n",
    "    F1 = 2 * (precision * recall) / (precision + recall) if (precision + recall) > 0 else 0\n",
    "\n",
    "    #IMPRIMIR RESULTADOS\n",
    "    print(metodo.upper())\n",
    "    print('------------------------------')\n",
    "    print('AUC: ', round(roc,3))\n",
    "    print('Matriz de confusión\\n',pd.DataFrame(conf))\n",
    "    print('accuracy:',round(accuracy,3))\n",
    "    print('recall:',round(recall,3))    \n",
    "    print('precision:',round(precision,3))\n",
    "    print('F1:',round(F1,3),'\\n\\n')\n",
    "\n",
    "#Hacemos un bucle para ir extrayendo los resultados\n",
    "for metodo, roc in resultados_por_metodo:\n",
    "    calcular_metricas(metodo, roc)"
   ]
  },
  {
   "cell_type": "code",
   "execution_count": 83,
   "id": "be097ad5",
   "metadata": {},
   "outputs": [],
   "source": [
    "print('SIN Balanceo:', round(roc_rl_sin_balanceo,5))\n",
    "print('Balanceo undersampling:', round(roc_rl_rus,5))\n",
    "print('Balanceo oversampling:', round(roc_rl_ros,5))\n",
    "print('Balanceo SMOTE-Tomek:', round(roc_rl_sto,5))\n",
    "print('Penalización por peso:', round(roc_rl_pes,5))"
   ]
  },
  {
   "cell_type": "markdown",
   "id": "7656ba95",
   "metadata": {},
   "source": [
    "Comprobamos el tamaño de los datasets"
   ]
  },
  {
   "cell_type": "code",
   "execution_count": 84,
   "id": "2d3a6416",
   "metadata": {},
   "outputs": [],
   "source": [
    "print('SIN Balanceo:', x.shape)\n",
    "print('Balanceo undersampling:', x_rus.shape) #Mas eficiente. Igual AUC en LogisticRegression con dataset mas pequeño\n",
    "print('Balanceo oversampling:', x_ros.shape)\n",
    "print('Balanceo SMOTE-Tomek:', x_sto.shape)\n",
    "print('Penalización por peso:', x.shape)"
   ]
  },
  {
   "cell_type": "markdown",
   "id": "87434e0c",
   "metadata": {},
   "source": [
    "## 4. SELECCION DE VARIABLES"
   ]
  },
  {
   "cell_type": "markdown",
   "id": "f834fc66",
   "metadata": {},
   "source": [
    "Descomentar el método de balanceo elegido y dejar comentados el resto."
   ]
  },
  {
   "cell_type": "code",
   "execution_count": 85,
   "id": "c5112d5d",
   "metadata": {},
   "outputs": [],
   "source": [
    "x_final = x #SIN Balanceo\n",
    "y_final = y #SIN Balanceo\n",
    "\n",
    "# x_final = x_rus #Undersampling\n",
    "#y_final = y_rus #Undersampling\n",
    "\n",
    "# x_final = x_ros #Oversampling\n",
    "# y_final = y_ros #Oversampling\n",
    "\n",
    "# x_final = x_sto #SMOTE-Tomek\n",
    "# y_final = y_sto #SMOTE-Tomek"
   ]
  },
  {
   "cell_type": "markdown",
   "id": "57582850",
   "metadata": {},
   "source": [
    "## 5. GUARDADO DE DATASET"
   ]
  },
  {
   "cell_type": "code",
   "execution_count": 86,
   "id": "782bf43c",
   "metadata": {},
   "outputs": [],
   "source": [
    "#Definir los nombres de los archivos\n",
    "nombre_x_final = ruta_proyecto + '/02_Datos/03_Trabajo/' + 'x_final.pickle'\n",
    "nombre_y_final = ruta_proyecto + '/02_Datos/03_Trabajo/' + 'y_final.pickle'"
   ]
  },
  {
   "cell_type": "code",
   "execution_count": 87,
   "id": "44c7dd60",
   "metadata": {},
   "outputs": [],
   "source": [
    "#Guardar los archivos\n",
    "x_final.to_pickle(nombre_x_final)\n",
    "y_final.to_pickle(nombre_y_final)"
   ]
  },
  {
   "cell_type": "code",
   "execution_count": null,
   "id": "3fa87ec0",
   "metadata": {},
   "outputs": [],
   "source": []
  }
 ],
 "metadata": {
  "kernelspec": {
   "display_name": "Python 3 (ipykernel)",
   "language": "python",
   "name": "python3"
  },
  "language_info": {
   "codemirror_mode": {
    "name": "ipython",
    "version": 3
   },
   "file_extension": ".py",
   "mimetype": "text/x-python",
   "name": "python",
   "nbconvert_exporter": "python",
   "pygments_lexer": "ipython3",
   "version": "3.11.11"
  },
  "toc": {
   "base_numbering": 1,
   "nav_menu": {},
   "number_sections": true,
   "sideBar": true,
   "skip_h1_title": false,
   "title_cell": "Table of Contents",
   "title_sidebar": "Contents",
   "toc_cell": false,
   "toc_position": {
    "height": "calc(100% - 180px)",
    "left": "10px",
    "top": "150px",
    "width": "302.35px"
   },
   "toc_section_display": true,
   "toc_window_display": false
  },
  "varInspector": {
   "cols": {
    "lenName": 16,
    "lenType": 16,
    "lenVar": 40
   },
   "kernels_config": {
    "python": {
     "delete_cmd_postfix": "",
     "delete_cmd_prefix": "del ",
     "library": "var_list.py",
     "varRefreshCmd": "print(var_dic_list())"
    },
    "r": {
     "delete_cmd_postfix": ") ",
     "delete_cmd_prefix": "rm(",
     "library": "var_list.r",
     "varRefreshCmd": "cat(var_dic_list()) "
    }
   },
   "position": {
    "height": "546.85px",
    "left": "1531.75px",
    "right": "20px",
    "top": "115px",
    "width": "350px"
   },
   "types_to_exclude": [
    "module",
    "function",
    "builtin_function_or_method",
    "instance",
    "_Feature"
   ],
   "window_display": false
  }
 },
 "nbformat": 4,
 "nbformat_minor": 5
}
